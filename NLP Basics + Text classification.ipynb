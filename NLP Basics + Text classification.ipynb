{
 "cells": [
  {
   "cell_type": "markdown",
   "metadata": {},
   "source": [
    "# NLP Basics + Text classification"
   ]
  },
  {
   "cell_type": "markdown",
   "metadata": {},
   "source": [
    "## Introduction"
   ]
  },
  {
   "cell_type": "markdown",
   "metadata": {},
   "source": [
    "In this notebook, the following are to be covered:\n",
    "- String manipulation\n",
    "- Text Cleaning\n",
    "- Text Analysis\n",
    "- Text Classification"
   ]
  },
  {
   "cell_type": "markdown",
   "metadata": {},
   "source": [
    "## String manipulation basics"
   ]
  },
  {
   "cell_type": "code",
   "execution_count": 1,
   "metadata": {},
   "outputs": [
    {
     "data": {
      "text/plain": [
       "True"
      ]
     },
     "execution_count": 1,
     "metadata": {},
     "output_type": "execute_result"
    }
   ],
   "source": [
    "# strings \n",
    "\n",
    "# double and single quotes\n",
    "string1 = \"hello world\"\n",
    "string2 = 'hello world'\n",
    "string1 == string2"
   ]
  },
  {
   "cell_type": "code",
   "execution_count": 2,
   "metadata": {},
   "outputs": [
    {
     "data": {
      "text/plain": [
       "True"
      ]
     },
     "execution_count": 2,
     "metadata": {},
     "output_type": "execute_result"
    }
   ],
   "source": [
    "# multi-line strings can be made using triple quotes (using either double or single quotes)\n",
    "multiLineStr1 = \"\"\"check\n",
    "this string is\n",
    "looooooooooooooooooong\"\"\"\n",
    "\n",
    "multiLineStr2 = '''check\n",
    "this string is\n",
    "looooooooooooooooooong'''\n",
    "\n",
    "multiLineStr1 == multiLineStr2"
   ]
  },
  {
   "cell_type": "code",
   "execution_count": 3,
   "metadata": {},
   "outputs": [
    {
     "name": "stdout",
     "output_type": "stream",
     "text": [
      "check\n",
      "this string is\n",
      "looooooooooooooooooong\n"
     ]
    }
   ],
   "source": [
    "# when print,newlines are printed\n",
    "print(multiLineStr1)"
   ]
  },
  {
   "cell_type": "code",
   "execution_count": 4,
   "metadata": {},
   "outputs": [
    {
     "data": {
      "text/plain": [
       "'check\\nthis string is\\nlooooooooooooooooooong'"
      ]
     },
     "execution_count": 4,
     "metadata": {},
     "output_type": "execute_result"
    }
   ],
   "source": [
    "# when displaying the value, the newlines are shown\n",
    "multiLineStr1"
   ]
  },
  {
   "cell_type": "code",
   "execution_count": 5,
   "metadata": {},
   "outputs": [
    {
     "name": "stdout",
     "output_type": "stream",
     "text": [
      "implicit concatenation\n",
      "using a plus sign\n",
      "or using fancy formatting    100.123\n"
     ]
    }
   ],
   "source": [
    "# strings can be concatenated in several ways:\n",
    "str1 = \"implicit \" \"concatenation\"\n",
    "str2 = \"using \" + \"a \" + \"plus \" + \"sign\"\n",
    "\n",
    "# this way is fastest and provides additional ways to format e.g. numbers\n",
    "str3 = \"or {} {} {} {:10.3f}\".format(\"using\", \"fancy\", \"formatting\", 100.123456)\n",
    "print(str1)\n",
    "print(str2)\n",
    "print(str3)"
   ]
  },
  {
   "cell_type": "code",
   "execution_count": 6,
   "metadata": {},
   "outputs": [
    {
     "ename": "TypeError",
     "evalue": "'str' object does not support item assignment",
     "output_type": "error",
     "traceback": [
      "\u001b[1;31m---------------------------------------------------------------------------\u001b[0m",
      "\u001b[1;31mTypeError\u001b[0m                                 Traceback (most recent call last)",
      "\u001b[1;32m<ipython-input-6-f68980af0a4c>\u001b[0m in \u001b[0;36m<module>\u001b[1;34m()\u001b[0m\n\u001b[0;32m      2\u001b[0m \u001b[0mstr1\u001b[0m \u001b[1;33m=\u001b[0m \u001b[1;34m\"immutable\"\u001b[0m\u001b[1;33m\u001b[0m\u001b[0m\n\u001b[0;32m      3\u001b[0m \u001b[1;31m# This will give TypeError: 'str' object does not support item assignment\u001b[0m\u001b[1;33m\u001b[0m\u001b[1;33m\u001b[0m\u001b[0m\n\u001b[1;32m----> 4\u001b[1;33m \u001b[0mstr1\u001b[0m\u001b[1;33m[\u001b[0m\u001b[1;36m0\u001b[0m\u001b[1;33m]\u001b[0m \u001b[1;33m=\u001b[0m \u001b[1;34m\"I\"\u001b[0m\u001b[1;33m\u001b[0m\u001b[0m\n\u001b[0m",
      "\u001b[1;31mTypeError\u001b[0m: 'str' object does not support item assignment"
     ]
    }
   ],
   "source": [
    "# strings are immutable\n",
    "str1 = \"immutable\"\n",
    "# This will give TypeError: 'str' object does not support item assignment\n",
    "str1[0] = \"I\"\n"
   ]
  },
  {
   "cell_type": "code",
   "execution_count": 7,
   "metadata": {},
   "outputs": [
    {
     "name": "stdout",
     "output_type": "stream",
     "text": [
      "Immutable\n"
     ]
    }
   ],
   "source": [
    "# to modify a string, a new string must be created\n",
    "str2 = \"I{}\".format(str1[1:])\n",
    "print(str2)"
   ]
  },
  {
   "cell_type": "code",
   "execution_count": 8,
   "metadata": {},
   "outputs": [
    {
     "name": "stdout",
     "output_type": "stream",
     "text": [
      "Immutable\n"
     ]
    }
   ],
   "source": [
    "# Python has a builtin function to capitalize words\n",
    "str2 = str1.title()\n",
    "print(str2)"
   ]
  },
  {
   "cell_type": "code",
   "execution_count": 9,
   "metadata": {},
   "outputs": [
    {
     "name": "stdout",
     "output_type": "stream",
     "text": [
      "mmutable\n",
      "True\n"
     ]
    }
   ],
   "source": [
    "# slices work as such [startIndex : endIndex : step]\n",
    "# leaving out values gives the default value of startIndex = 0, endIndex = the end, \n",
    "# step = 1\n",
    "print(str1[1:])\n",
    "print(str1[1:] == str1[1:len(\"immutable\"):1])"
   ]
  },
  {
   "cell_type": "code",
   "execution_count": 10,
   "metadata": {},
   "outputs": [
    {
     "name": "stdout",
     "output_type": "stream",
     "text": [
      "i\n"
     ]
    }
   ],
   "source": [
    "# beginning of string\n",
    "print(str1[0])"
   ]
  },
  {
   "cell_type": "code",
   "execution_count": 11,
   "metadata": {},
   "outputs": [
    {
     "name": "stdout",
     "output_type": "stream",
     "text": [
      "e\n"
     ]
    }
   ],
   "source": [
    "# negative values gives end of string\n",
    "print(str1[-1])"
   ]
  },
  {
   "cell_type": "code",
   "execution_count": 12,
   "metadata": {},
   "outputs": [
    {
     "name": "stdout",
     "output_type": "stream",
     "text": [
      "tabl\n"
     ]
    }
   ],
   "source": [
    "# the start index is INCLUSIVE but the end index is EXCLUSIVE\n",
    "print(str1[4:8])"
   ]
  },
  {
   "cell_type": "code",
   "execution_count": 13,
   "metadata": {},
   "outputs": [
    {
     "name": "stdout",
     "output_type": "stream",
     "text": [
      "There are 303 articles\n",
      "['Independence of Journalism', 'January 7, 2017']\n"
     ]
    }
   ],
   "source": [
    "# Text cleaning can be done using Regular expression\n",
    "# The following website https://regexone.com/references/python has a rich interactive tutorial\n",
    "\n",
    "import re # Regular expression package\n",
    "import requests # mining data package\n",
    "from bs4 import BeautifulSoup # parsing html data package\n",
    "\n",
    "# In this exemple, we will first collect data about Noam choamsky \n",
    "r = requests.get(\"https://chomsky.info/articles/\")\n",
    "# convert to \"soup\" from BeautifulSoup to extract HTML stuff easily\n",
    "soup = BeautifulSoup(r.text,\"html5lib\")\n",
    "\n",
    "# Looking at the structure of the webpage, one way is to extract date and title seperately then combine them in a list\n",
    "date_data = [listItem.text for item in soup.find('a') for listItem in soup.find_all('li')]\n",
    "title_data = [item.find('a').text for item in soup.find_all('li')]\n",
    "clean_data = []\n",
    "for date,title in zip(date_data,title_data):\n",
    "    try:\n",
    "        item_split = date.split('.')\n",
    "        clean_data.append([title.rstrip('.'), item_split[-2].lstrip(\" \")])\n",
    "    except:\n",
    "        continue\n",
    "\n",
    "print(\"There are {} articles\".format(len(clean_data))) # Total number of articles\n",
    "print(clean_data[0]) # first item in the list"
   ]
  },
  {
   "cell_type": "markdown",
   "metadata": {},
   "source": [
    "## Text Cleaning"
   ]
  },
  {
   "cell_type": "code",
   "execution_count": 14,
   "metadata": {},
   "outputs": [
    {
     "data": {
      "image/png": "[encoded data removed]",
      "text/plain": [
       "<matplotlib.figure.Figure at 0xe6bb52d240>"
      ]
     },
     "metadata": {},
     "output_type": "display_data"
    }
   ],
   "source": [
    "# Let's do some analysis...finally...\n",
    "# Let's figure out what years Dr. Ptucha has been most prolific\n",
    "\n",
    "# matplotlib is a plotting library for python\n",
    "import matplotlib.pyplot as plt\n",
    "# make the plots inline with the notebook\n",
    "%matplotlib inline\n",
    "# numpy is a numerical package for working with fast, efficient, \n",
    "# vectorized matrices like in MATLAB\n",
    "import numpy as np\n",
    "\n",
    "# look for numbers between 19xx and 20xx\n",
    "yearRe = re.compile(\"19\\d{2}|20\\d{2}\")\n",
    "\n",
    "# make sure the matched object is not None to call the group() \n",
    "# function which returns the actual matched text\n",
    "years = np.array([int(yearRe.search(d[1]).group(0)) for d in clean_data if yearRe.search(d[1]) is not None])\n",
    "numBins = np.max(years) - np.min(years) + 1\n",
    "\n",
    "plt.figure(figsize=(12, 6))\n",
    "plt.hist(years, numBins)\n",
    "plt.title(\"# of Noam Chomsky articles per year\")\n",
    "plt.annotate(\"first publication of\\n Systems of Syntactic\\n Analysis\",\n",
    "                xy=(1953, 1), xytext=(1957, 6),\n",
    "                arrowprops=dict(facecolor='black', shrink=0.05))\n",
    "plt.annotate(\"Vitenam war\",\n",
    "                xy=(1971, 5), xytext=(1972, 7),\n",
    "                arrowprops=dict(facecolor='black', shrink=0.05))\n",
    "plt.annotate(\"Gulf war\",\n",
    "                xy=(1991, 7), xytext=(1992, 9),\n",
    "                arrowprops=dict(facecolor='black', shrink=0.1))\n",
    "plt.annotate(\"l\",\n",
    "                xy=(1993, 7), xytext=(1992, 9),\n",
    "                arrowprops=dict(facecolor='black', shrink=0.1))\n",
    "\n",
    "\n",
    "plt.show()"
   ]
  },
  {
   "cell_type": "code",
   "execution_count": 17,
   "metadata": {},
   "outputs": [],
   "source": [
    "# Skimming the data shows that there are some articles with more than one language, since we are interested in English\n",
    "# we remove the other versions\n",
    "for item in clean_data:\n",
    "    if ('castellano' in item[0]):\n",
    "        clean_data.pop(clean_data.index(item))\n",
    "    elif ('Deutsch'in item[0]):\n",
    "        clean_data.pop(clean_data.index(item))\n",
    "    elif ('Japanese' in item[0]):\n",
    "        clean_data.pop(clean_data.index(item))\n",
    "        "
   ]
  },
  {
   "cell_type": "code",
   "execution_count": 18,
   "metadata": {},
   "outputs": [
    {
     "data": {
      "text/plain": [
       "[['Independence of Journalism', 'January 7, 2017'],\n",
       " ['US Isolation', 'December 30, 2016'],\n",
       " ['An Eight Point Brief for LEV (Lesser Evil Voting)', 'June 15, 2016'],\n",
       " ['Noam Chomsky for Refugee Crisis', 'May 5, 2016'],\n",
       " ['Turkey continues to muzzle democracy’s watchdogs', 'November 12, 2015'],\n",
       " ['\"The Iranian Threat\" Who Is the Gravest Danger to World Peace?',\n",
       "  'August 20, 2015'],\n",
       " ['One Day in the Life of a Reader of the New York Times', 'April 6, 2015'],\n",
       " ['Magna Carta Messed Up the World, Here’s How to Fix It', 'March 23, 2015'],\n",
       " [\"A Brief History of America's Cold-Blooded, Terroristic Treatment of Cuba\",\n",
       "  'February 5, 2015'],\n",
       " ['Chomsky: Paris attacks show hypocrisy of West’s outrage',\n",
       "  'January 20, 2015'],\n",
       " ['We Are All … Fill in the Blank', 'January 10, 2015'],\n",
       " ['Obama’s Historic Move', 'December 14, 2014'],\n",
       " ['Elites Have Forced America into a National Psychosis to Keep Us Embroiled in Imperial Wars',\n",
       "  'December 2, 2014'],\n",
       " ['How the Young Are Indoctrinated to Obey', 'December 1, 2014'],\n",
       " ['The Leading Terrorist State', 'November 3, 2014'],\n",
       " ['The Long, Shameful History of American Terrorism', 'November 3, 2014'],\n",
       " ['Facts on the Ground', 'October 2, 2014'],\n",
       " ['Only One Thing Will Make Israel Change Course', 'October 2, 2014'],\n",
       " ['The Crass and Brutal Approach Used to Keep Gaza Mired in Misery',\n",
       "  'October 2, 2014'],\n",
       " ['Ceasefires in Which Violations Never Cease', 'September 9, 2014'],\n",
       " ['Ceasefires in Which Violations Never Cease – What’s Next for Israel, Hamas, and Gaza?',\n",
       "  'September 9, 2014'],\n",
       " [\"Owl of Minerva's View: ISIS and Our Times\", 'September 5, 2014'],\n",
       " ['The End of History? The short, strange era of human civilization would appear to be drawing to a close',\n",
       "  'September 4, 2014'],\n",
       " ['How Could Language Have Evolved?', 'August 26, 2014'],\n",
       " ['Outrage', 'August 14, 2014'],\n",
       " ['How Many Minutes to Midnight? Hiroshima Day 2014', 'August 5, 2014'],\n",
       " ['Nightmare in Gaza', 'August 3, 2014'],\n",
       " ['The Sledgehammer Worldview', 'July 7, 2014'],\n",
       " ['Whose Security?', 'July 1, 2014'],\n",
       " ['A Surveillance State Beyond Imagination Is Being Created in One of the World’s Freest Countries',\n",
       "  'June 2, 2014'],\n",
       " ['Edward Snowden, the World\\'s \"Most Wanted Criminal\"', 'June 2, 2014'],\n",
       " ['The Politics of Red Lines: Putin’s takeover of Crimea scares U.S. leaders because it challenges America’s global dominance',\n",
       "  'May 1, 2014'],\n",
       " ['Security and State Power / The Prospects for Survival', 'March 3, 2014'],\n",
       " ['Prerogatives of Power', 'February 5, 2014'],\n",
       " ['The Greatest Threat to World Peace', 'February 5, 2014'],\n",
       " ['What is the Common Good?', 'January 7, 2014'],\n",
       " ['Foreword to Michael Albert, Realizing Hope: Life Beyond Capitalism',\n",
       "  '2014'],\n",
       " ['The Dangerous Rogue States Operating in the Mideast — U.S. and Israel',\n",
       "  'December 4, 2013'],\n",
       " ['The US Elections: Outrage, Misguided', 'November 17, 2013'],\n",
       " ['America’s Going Rogue', 'November 6, 2013'],\n",
       " ['De-Americanizing the World', 'November 5, 2013'],\n",
       " ['The one state/two state debate is irrelevant as Israel and the US consolidate Greater Israel',\n",
       "  'October 24, 2013'],\n",
       " ['The Obama Doctrine', 'October 6, 2013'],\n",
       " ['Hidden Power and Built Form: The Politics Behind the Architecture',\n",
       "  'October 1, 2013'],\n",
       " ['Middle East peace talks a complete farce', 'September 5, 2013'],\n",
       " ['The \"Honest Broker\" is Crooked', 'September 2, 2013'],\n",
       " ['Why the Israel-Palestine ‘Negotiations’ Are a Complete Farce',\n",
       "  'September 2, 2013'],\n",
       " ['Israel’s West Bank plans will leave Palestinians very little',\n",
       "  'August 16, 2013'],\n",
       " ['Is Edward J. Snowden Aboard This Plane?', 'August 1, 2013'],\n",
       " ['Fantasies', 'July 21, 2013'],\n",
       " ['The US Remains Guilty in Guatemala', 'June 6, 2013'],\n",
       " ['Humanity Imperiled: The Path to Disaster', 'June 4, 2013'],\n",
       " ['Boston and Beyond', 'May 2, 2013'],\n",
       " ['In Palestine, Dignity and Violence', 'April 2, 2013'],\n",
       " ['The Cruelty That Keeps Empires Alive', 'April 2, 2013'],\n",
       " ['Can Civilization Survive Capitalism?', 'March 5, 2013'],\n",
       " ['Palestine 2012 — Gaza and the UN resolution', 'December 1, 2012'],\n",
       " ['Impressions of Gaza', 'November 4, 2012'],\n",
       " ['The Week the World Stood Still:\\nThe Cuban Missile Crisis and Ownership of the World',\n",
       "  'October 15, 2012'],\n",
       " ['Issues that Obama and Romney Avoid', 'October 10, 2012'],\n",
       " ['War Drums Beat Ever More Loudly Over Iran', 'September 4, 2012'],\n",
       " ['Why America and Israel Are the Greatest Threats to Peace',\n",
       "  'September 3, 2012'],\n",
       " ['In Hiroshima’s Shadow', 'August 2, 2012'],\n",
       " ['Destroying the Commons: How the Magna Carta Became a Minor Carta',\n",
       "  'July 22, 2012'],\n",
       " ['Somebody Else’s Atrocities', 'June 6, 2012'],\n",
       " ['Plutonomy and the Precariat: On the History of the U.S. Economy in Decline',\n",
       "  'May 8, 2012'],\n",
       " ['Cartagena, Beyond The Secret Service Scandal', 'May 3, 2012'],\n",
       " ['May Day by Noam Chomsky', 'April 29, 2012'],\n",
       " ['The Assault on Public Education', 'April 4, 2012'],\n",
       " [\"What Are Iran's Intentions?\", 'March 2, 2012'],\n",
       " ['The Imperial Way: American Decline in Perspective, Part 2',\n",
       "  'February 15, 2012'],\n",
       " ['“Losing” the World: American Decline in Perspective, Part 1',\n",
       "  'February 14, 2012'],\n",
       " ['Anniversaries From \"Unhistory\"', 'February 6, 2012'],\n",
       " ['Recognizing the \"Unpeople\"', 'January 7, 2012'],\n",
       " ['Marching Off the Cliff', 'December 6, 2011'],\n",
       " ['Occupy The Future', 'November 1, 2011'],\n",
       " ['Was There an Alternative? Looking Back on 9/11 a Decade Later',\n",
       "  'September 6, 2011'],\n",
       " ['After 9/11, Was War the Only Option?', 'September 5, 2011'],\n",
       " ['American Decline: Causes and Consequences', 'August 24, 2011'],\n",
       " ['La decadencia de Estados Unidos: causas y consecuencias',\n",
       "  '23 de agosto, 2011'],\n",
       " ['America in Decline', 'August 5, 2011'],\n",
       " ['In Israel, A Tsunami Warning', 'July 7, 2011'],\n",
       " ['The Revenge Killing of Osama bin Laden', 'May 31, 2011'],\n",
       " ['The ‘Great Moderation’ and the International Assault on Labor',\n",
       "  'May 2, 2011'],\n",
       " ['There is Much More to Say', 'May 2011'],\n",
       " ['Is the World Too Big to Fail? The Contours of Global Order',\n",
       "  'April 21, 2011'],\n",
       " ['Libya and the World of Oil', 'April 4, 2011'],\n",
       " ['The Cairo-Madison Connection', 'March 9, 2011'],\n",
       " ['It’s not radical Islam that worries the US – it’s independence',\n",
       "  'February 4, 2011'],\n",
       " ['\"The Arab World Is on Fire\"', 'February 3, 2011'],\n",
       " ['Breaking the Israel-Palestine Deadlock', 'January 3, 2011'],\n",
       " ['The Charade of Israeli-Palestinian Talks', 'December 6, 2010'],\n",
       " ['The Iranian Threat', 'July 2, 2010'],\n",
       " ['Noam Chomsky on Israel and the Gaza Flotilla Attack: “Sheer Criminal Aggression, with no Credible Pretext”',\n",
       "  'June 2, 2010'],\n",
       " ['A Middle East Peace That Could Happen (But Won’t): In Washington-Speak, “Palestinian State” Means “Fried Chicken”',\n",
       "  'April 27, 2010'],\n",
       " ['Globalization Marches On: Growing popular outrage has not challenged corporate power',\n",
       "  'March 26, 2010'],\n",
       " ['Remembering Howard Zinn', 'March/April 2010'],\n",
       " ['The Corporate Takeover of U.S. Democracy', 'January 24, 2010'],\n",
       " ['Presidential “Peacemaking” in Latin America', 'January 5, 2010'],\n",
       " ['The Legacy of 1989, in Two Hemispheres', 'December 3, 2009'],\n",
       " ['War, Peace, and Obama’s Nobel', 'November 5, 2009'],\n",
       " ['Barack Obama and the ‘Unipolar Moment’', 'October 6, 2009'],\n",
       " ['Coups, UNASUR, and the U.S', 'October 2009'],\n",
       " ['Crisis and Hope: Theirs and Ours', 'September/October 2009'],\n",
       " ['Militarizing Latin America', 'August 30, 2009'],\n",
       " ['Season of Travesties: Freedom and Democracy in mid-2009', 'July 9, 2009'],\n",
       " ['Turning Point?', 'June 7, 2009'],\n",
       " ['What Obama Didn’t Say in His Cairo Address Speaks Volumes About His Mideast Policy',\n",
       "  'June 4, 2009'],\n",
       " ['The Torture Memos', 'May 21, 2009'],\n",
       " ['Challenges For Barack Obama: Iraq, Pakistan and Afghanistan', 'March 2009'],\n",
       " ['Elections 2008 & Obama’s “Vision”: What we can expect in 2009, given both parties are well to the right of the population',\n",
       "  'February 2009'],\n",
       " ['Obama on Israel-Palestine', 'January 24, 2009'],\n",
       " ['“Exterminate all the Brutes”: Gaza 2009',\n",
       "  'January 19, 2009 (revised June 6, 2009)'],\n",
       " ['The Election, Economy, War, and Peace', 'November 25, 2008'],\n",
       " ['It’s Fantasy Economy! Some Expert Views on What Should Happen Next',\n",
       "  'October 19, 2008'],\n",
       " ['Costos y riesgos socializados vs. Ganancias privatizadas: La crisis en los Estados Unidos (with José Santana)',\n",
       "  'October 11, 2008'],\n",
       " ['Viewpoints: Where now for capitalism?', 'September 19, 2008'],\n",
       " ['Ossetia-Russia-Georgia', 'September 9, 2008'],\n",
       " ['Humanitarian Imperialism:  The New Doctrine of Imperial Right',\n",
       "  'September, 2008'],\n",
       " ['Status of Forces Agreement', 'August 9, 2008'],\n",
       " ['All options on the table?', 'August 6, 2008'],\n",
       " [\"It's the oil, stupid!\", 'July 8, 2008'],\n",
       " ['Bush’s bankrupt vision', 'June 1, 2008'],\n",
       " ['Noam Chomsky on 1968', 'May 8, 2008'],\n",
       " ['Can a Democrat change US Middle East policy?', 'April 3, 2008'],\n",
       " ['The war everyone forgot', 'February 29, 2008'],\n",
       " ['The Most Wanted List, International Terrorism', 'February 26, 2008'],\n",
       " ['“Good News,” Iraq and Beyond', 'February 16, 2008'],\n",
       " ['Where’s the Iraqi voice?', 'February 1, 2008'],\n",
       " ['We Own the World', 'January 1, 2008'],\n",
       " ['Symposium on Margaret Boden, Mind as Machine: A History of Cognitive Science',\n",
       "  'October 11, 2007'],\n",
       " ['Cold War II', 'August 27, 2007'],\n",
       " ['Guillotining Gaza', 'July 30, 2007'],\n",
       " ['Starving the Poor', 'May 15, 2007'],\n",
       " ['What If Iran Had Invaded Mexico?', 'April 5, 2007'],\n",
       " ['In Memory of Tanya Reinhart', 'March 18, 2007'],\n",
       " ['South America: Toward an Alternative Future', 'January 5, 2007'],\n",
       " ['Latin America Declares Independence', 'October 3, 2006'],\n",
       " ['On the US-Israeli Invasion of Lebanon', 'August 19, 2006'],\n",
       " ['Solution in Sight', 'June 23, 2006'],\n",
       " ['A Just War? Hardly', 'May 9, 2006'],\n",
       " ['Superpower and Failed States', 'April 5, 2006'],\n",
       " ['The Israel Lobby?', 'March 28, 2006'],\n",
       " ['Latin America and Asia Are at Last Breaking Free of Washington’s Grip',\n",
       "  'March 15, 2006'],\n",
       " ['New World Relationships', 'March 10, 2006'],\n",
       " ['Beyond the Ballot', 'January 6, 2006'],\n",
       " ['We are All Complicit', 'January, 2006'],\n",
       " ['A Dangerous Neighbourhood', 'December 8, 2005'],\n",
       " ['Intelligent Design?', 'October 6, 2005'],\n",
       " ['Wanted a Leader for America', 'October 5, 2005'],\n",
       " ['The Evolution of the Language Faculty', 'September, 2005'],\n",
       " ['We Must Act Now to Prevent Another Hiroshima — or Worse', 'August 7, 2005'],\n",
       " ['The Manipulation of Fear', 'July 16, 2005'],\n",
       " ['It’s Imperialism, Stupid', 'July 4, 2005'],\n",
       " ['What We Know', 'Summer, 2005'],\n",
       " ['The Social Security Non-Crisis', 'June 1, 2005'],\n",
       " ['The Future of Iraq and U.S. Occupation', 'January 26, 2005'],\n",
       " ['Imperial Presidency', 'January/February 2005'],\n",
       " ['Simple Truths, Hard Problems', 'January, 2005'],\n",
       " ['On Colombia', 'December 2004'],\n",
       " ['2004 Elections', 'November 29, 2004'],\n",
       " ['Reshaping History', 'November 18-24, 2004'],\n",
       " ['The Disconnect in US Democracy', 'October 29, 2004'],\n",
       " ['Understanding the Bush Doctrine', 'October 2, 2004'],\n",
       " ['From Central America to Iraq', 'August 6, 2004'],\n",
       " ['How America Determines Friends and Foes', 'March 14, 2004'],\n",
       " ['US-Haiti', 'March 9, 2004'],\n",
       " ['A Wall as a Weapon', 'February 23, 2004'],\n",
       " ['What a Fair Trial for Saddam Would Entail', 'January 25, 2004'],\n",
       " ['Selective Memory and a Dishonest Doctrine', 'December 21, 2003'],\n",
       " ['The Iraq War and Contempt for Democracy', 'October 31, 2003'],\n",
       " ['Moral Truisms, Empirical Evidence, and Foreign Policy', 'October, 2003'],\n",
       " ['Dominance and its Dilemmas', 'October, 2003'],\n",
       " ['Reasons to Fear U.S', 'September 7, 2003'],\n",
       " ['Preventive War ‘the Supreme Crime’', 'August 11, 2003'],\n",
       " ['Deep Concerns', 'March 20, 2003'],\n",
       " ['The Case Against US Adventurism in Iraq', 'March 13, 2003'],\n",
       " ['Wars of Terror', 'March, 2003'],\n",
       " ['The People in Gravest Danger', 'March 1, 2003'],\n",
       " ['Human Rights Week 2002', 'December 28, 2002'],\n",
       " ['A Modest Proposal', 'December 3, 2002'],\n",
       " ['The Faculty of Language', 'November 22, 2002'],\n",
       " ['Drain the Swamp and There Will Be No More Mosquitoes', 'September 9, 2002'],\n",
       " ['What Americans Have Learnt –and not Learnt– Since 9/11',\n",
       "  'September 7, 2002'],\n",
       " ['The Crimes of ‘Intcom’', 'September, 2002'],\n",
       " ['Mirror Crack’d', 'September, 2002'],\n",
       " ['Terror and Just Response', 'July 2, 2002'],\n",
       " ['Constructive Action?', 'May 11, 2002'],\n",
       " ['Who are the Global Terrorists?', 'May, 2002'],\n",
       " ['Back in the USA', 'May, 2002'],\n",
       " ['The War In Afghanistan', 'February 1, 2002'],\n",
       " ['A Quick Reaction', 'September 12, 2001'],\n",
       " ['Neocolonial Invitation to a Tribal War', 'August 13, 2001'],\n",
       " ['A Review of NATO’s War over Kosovo', 'April-May, 2001'],\n",
       " ['Introduction: Project Censored 25th Anniversary', 'April, 2001'],\n",
       " ['Voting Patterns and Abstentions', 'February, 2001'],\n",
       " ['How US Democracy Triumphed Again', 'January 14, 2001'],\n",
       " ['Elections 2000', 'January, 2001'],\n",
       " ['Blinded by the Truth', 'Number 506, 2-8 November, 2000'],\n",
       " ['The Colombia Plan: April 2000', 'June, 2000'],\n",
       " ['Green Light for War Crimes', 'May 2000'],\n",
       " ['Another Way For Kosovo?', 'March 14, 2000'],\n",
       " ['Linguistics and Brain Science', '2000'],\n",
       " ['Thoughts Of A Secular Sufi', '2000'],\n",
       " ['East Timor Questions & Answers', 'October, 1999'],\n",
       " ['East Timor Retrospective', 'October, 1999'],\n",
       " ['East Timor', 'September 10, 1999'],\n",
       " ['Domestic Terrorism', 'September, 1999'],\n",
       " ['Why Americans Should Care about East Timor', 'August 26, 1999'],\n",
       " ['Kosovo Peace Accord', 'July, 1999'],\n",
       " ['Crisis in the Balkans', 'May, 1999'],\n",
       " ['The Current Bombings: Behind the Rhetoric', 'March, 1999'],\n",
       " ['The US and the \"Challenge of Relativity\"', 'November, 1998'],\n",
       " ['A Century Later', 'September, 1998'],\n",
       " ['Hordes of Vigilantes & Popular Elements Defeat MAI, for Now',\n",
       "  'August, 1998'],\n",
       " ['Jubilee 2000', 'May 15, 1998'],\n",
       " ['Domestic Constituencies', 'May, 1998'],\n",
       " ['Rogue States', 'April, 1998'],\n",
       " ['Market Democracy in a Neoliberal Order: Doctrines and Reality',\n",
       "  'November, 1997'],\n",
       " ['What Makes Mainstream Media Mainstream', 'October, 1997'],\n",
       " ['The Passion for Free Markets', 'May, 1997'],\n",
       " ['The Culture of Fear', 'July, 1996'],\n",
       " ['Old Wine in New Bottles: A Bitter Taste', 'June, 1996'],\n",
       " ['Israel, Lebanon, and the “Peace Process”', 'April 23, 1996'],\n",
       " ['Review of Man of the People: A Life of Harry S Truman by Alonzo L Hamby',\n",
       "  'March 8, 1996'],\n",
       " ['Eastern Exposure: Misrepresenting the Peace Process', 'February 6, 1996'],\n",
       " ['A Painful Peace', 'January, 1996'],\n",
       " ['Guilt of War Belongs to All', 'July 30, 1995'],\n",
       " ['Memories', 'July-August, 1995'],\n",
       " ['Rollback', 'January-May, 1995'],\n",
       " ['Introduction', '1995'],\n",
       " ['Rationality/Science', '1995'],\n",
       " ['Democracy Restored', 'November, 1994'],\n",
       " ['An Island Lies Bleeding', 'July 5, 1994'],\n",
       " ['On The U.S. Human Rights Record', 'July, 1994'],\n",
       " ['Democracy Enhancement', 'May-August, 1994'],\n",
       " ['The Clinton Vision: Update', 'January, 1994'],\n",
       " ['Humanitarian Intervention', 'December, 1993 - January, 1994'],\n",
       " ['The Clinton Vision', 'December, 1993'],\n",
       " ['The Israel-Arafat Agreement', 'October, 1993'],\n",
       " ['“Limited War” in Lebanon', 'September, 1993'],\n",
       " ['No Longer Safe', 'May, 1993'],\n",
       " ['Notes of NAFTA: “The Masters of Man”', 'March, 1993'],\n",
       " ['“Mandate for Change,” or Business as Usual', 'February, 1993'],\n",
       " ['Vain Hopes, False Dreams', 'September, 1992'],\n",
       " ['International Terrorism: Image and Reality', 'December, 1991'],\n",
       " ['Middle East Diplomacy: Continuities and Changes', 'December, 1991'],\n",
       " ['Aftermath', 'October, 1991'],\n",
       " ['Force and Opinion', 'July-August, 1991'],\n",
       " ['“What We Say Goes”: The Middle East in the New World Order', 'May, 1991'],\n",
       " ['Gulf War Pullout', 'February, 1991'],\n",
       " ['The Gulf Crisis', 'February, 1991'],\n",
       " ['The Victors', 'November, 1990'],\n",
       " ['The Decline of the Democratic Ideal', 'May, 1990'],\n",
       " ['Revolution of ’89', 'January 29, 1990'],\n",
       " ['Invasion Newspeak: U.S. & USSR', 'December, 1989'],\n",
       " ['Scenes from the Uprising', 'July, 1988'],\n",
       " ['Central America: The Next Phase', 'March, 1988'],\n",
       " ['Is Peace at Hand?', 'January, 1988'],\n",
       " ['The Empire and Ourselves', 'April 9, 1986'],\n",
       " ['Visions of Righteousness', 'Spring, 1986'],\n",
       " ['The Soviet Union Versus Socialism', 'Spring/Summer, 1986'],\n",
       " ['His Right to Say It', 'February 28, 1981'],\n",
       " ['Some Elementary Comments on The Rights of Freedom of Expression',\n",
       "  'October, 1980'],\n",
       " ['Language Development, Human Intelligence, and Social Organization', '1978'],\n",
       " ['Distortions at Fourth Hand', 'June 25, 1977'],\n",
       " ['The Meaning of Vietnam', 'June 12, 1975'],\n",
       " ['The Repression at Belgrade University', 'February 7, 1974'],\n",
       " ['The President and the Presidency', 'November, 1973'],\n",
       " ['Watergate: A Skeptical View', 'September 20, 1973'],\n",
       " ['The Pentagon Papers and U.S. Imperialism in South East Asia',\n",
       "  'Winter 1972/1973'],\n",
       " ['Vietnam: How Government Became Wolves', 'June 15, 1972'],\n",
       " ['The Case Against B.F. Skinner', 'December 30, 1971'],\n",
       " ['Mayday: The Case for Civil Disobedience', 'June 17, 1971'],\n",
       " ['Foreword', '1971'],\n",
       " ['After Pinkville', '1971'],\n",
       " ['In Defense of the Student Movement', '1971'],\n",
       " ['In North Vietnam', 'August 13, 1970'],\n",
       " ['A Visit to Laos', 'July 23, 1970'],\n",
       " ['Cambodia', 'June 4, 1970'],\n",
       " ['Notes on Anarchism', '1970'],\n",
       " ['The Menace of Liberal Scholarship', 'January 2, 1969'],\n",
       " ['Philosophers and Public Philosophy', 'October, 1968'],\n",
       " ['Reflections on a Political Trial', 'August 22, 1968'],\n",
       " ['On Resistance', 'December 7, 1967'],\n",
       " ['On the Backgrounds of the Pacific War', 'September-October, 1967'],\n",
       " ['The Responsibility of Intellectuals', 'February 23, 1967'],\n",
       " ['Review of B. F. Skinner’s Verbal Behavior', '1967'],\n",
       " ['Three Models for the Description of Language', 'September, 1956'],\n",
       " ['Logical Syntax and Semantics', 'January-March, 1955'],\n",
       " ['Systems of Syntactic Analysis', 'September, 1953']]"
      ]
     },
     "execution_count": 18,
     "metadata": {},
     "output_type": "execute_result"
    }
   ],
   "source": [
    "clean_data"
   ]
  },
  {
   "cell_type": "code",
   "execution_count": 19,
   "metadata": {
    "collapsed": true
   },
   "outputs": [],
   "source": [
    "# cleaning the text using regular expression is a repetitive process with aim to have a text containing clean words\n",
    "for item in clean_data:\n",
    "    clean_data[clean_data.index(item)][0] = re.sub('[Uu]\\.[Ss]\\.*|U[Ss]\\s|US-|[aA]merica\\w*|AMERICA','USA ', item[0])\n",
    "    clean_data[clean_data.index(item)][0] = re.sub(\"\\/\",\" \", item[0])\n",
    "    clean_data[clean_data.index(item)][0] = re.sub(\"|\\’s|\\”|\\“|‘|’|\\&\",'', item[0])\n",
    "    clean_data[clean_data.index(item)][0] = re.sub(\"\\'s\",'', item[0])\n",
    "    clean_data[clean_data.index(item)][0] = re.sub('\\(([^()]*)\\)','', item[0])\n",
    "    clean_data[clean_data.index(item)][0] = re.sub('\\-|–|…|—',' ', item[0])\n",
    "    clean_data[clean_data.index(item)][0] = re.sub('\\s$','', item[0])\n",
    "    clean_data[clean_data.index(item)][0] = re.sub('\\s+',' ', item[0])\n",
    "    \n",
    "        \n",
    "    "
   ]
  },
  {
   "cell_type": "code",
   "execution_count": 20,
   "metadata": {},
   "outputs": [
    {
     "data": {
      "text/plain": [
       "[['Independence of Journalism', 'January 7, 2017'],\n",
       " ['USA Isolation', 'December 30, 2016'],\n",
       " ['An Eight Point Brief for LEV', 'June 15, 2016'],\n",
       " ['Noam Chomsky for Refugee Crisis', 'May 5, 2016'],\n",
       " ['Turkey continues to muzzle democracy’s watchdogs', 'November 12, 2015'],\n",
       " ['\"The Iranian Threat\" Who Is the Gravest Danger to World Peace?',\n",
       "  'August 20, 2015'],\n",
       " ['One Day in the Life of a Reader of the New York Times', 'April 6, 2015'],\n",
       " ['Magna Carta Messed Up the World, Here’s How to Fix It', 'March 23, 2015'],\n",
       " ['A Brief History of USA Cold Blooded, Terroristic Treatment of Cuba',\n",
       "  'February 5, 2015'],\n",
       " ['Chomsky: Paris attacks show hypocrisy of West’s outrage',\n",
       "  'January 20, 2015'],\n",
       " ['We Are All Fill in the Blank', 'January 10, 2015'],\n",
       " ['Obama’s Historic Move', 'December 14, 2014'],\n",
       " ['Elites Have Forced USA into a National Psychosis to Keep USA Embroiled in Imperial Wars',\n",
       "  'December 2, 2014'],\n",
       " ['How the Young Are Indoctrinated to Obey', 'December 1, 2014'],\n",
       " ['The Leading Terrorist State', 'November 3, 2014'],\n",
       " ['The Long, Shameful History of USA Terrorism', 'November 3, 2014'],\n",
       " ['Facts on the Ground', 'October 2, 2014'],\n",
       " ['Only One Thing Will Make Israel Change Course', 'October 2, 2014'],\n",
       " ['The Crass and Brutal Approach Used to Keep Gaza Mired in Misery',\n",
       "  'October 2, 2014'],\n",
       " ['Ceasefires in Which Violations Never Cease', 'September 9, 2014'],\n",
       " ['Ceasefires in Which Violations Never Cease What’s Next for Israel, Hamas, and Gaza?',\n",
       "  'September 9, 2014'],\n",
       " ['Owl of Minerva View: ISIS and Our Times', 'September 5, 2014'],\n",
       " ['The End of History? The short, strange era of human civilization would appear to be drawing to a close',\n",
       "  'September 4, 2014'],\n",
       " ['How Could Language Have Evolved?', 'August 26, 2014'],\n",
       " ['Outrage', 'August 14, 2014'],\n",
       " ['How Many Minutes to Midnight? Hiroshima Day 2014', 'August 5, 2014'],\n",
       " ['Nightmare in Gaza', 'August 3, 2014'],\n",
       " ['The Sledgehammer Worldview', 'July 7, 2014'],\n",
       " ['Whose Security?', 'July 1, 2014'],\n",
       " ['A Surveillance State Beyond Imagination Is Being Created in One of the World’s Freest Countries',\n",
       "  'June 2, 2014'],\n",
       " ['Edward Snowden, the World \"Most Wanted Criminal\"', 'June 2, 2014'],\n",
       " ['The Politics of Red Lines: Putin’s takeover of Crimea scares USA leaders because it challenges USA ’s global dominance',\n",
       "  'May 1, 2014'],\n",
       " ['Security and State Power The Prospects for Survival', 'March 3, 2014'],\n",
       " ['Prerogatives of Power', 'February 5, 2014'],\n",
       " ['The Greatest Threat to World Peace', 'February 5, 2014'],\n",
       " ['What is the Common Good?', 'January 7, 2014'],\n",
       " ['Foreword to Michael Albert, Realizing Hope: Life Beyond Capitalism',\n",
       "  '2014'],\n",
       " ['The Dangerous Rogue States Operating in the Mideast USA and Israel',\n",
       "  'December 4, 2013'],\n",
       " ['The USA Elections: Outrage, Misguided', 'November 17, 2013'],\n",
       " ['USA ’s Going Rogue', 'November 6, 2013'],\n",
       " ['De USA the World', 'November 5, 2013'],\n",
       " ['The one state two state debate is irrelevant as Israel and the USA consolidate Greater Israel',\n",
       "  'October 24, 2013'],\n",
       " ['The Obama Doctrine', 'October 6, 2013'],\n",
       " ['Hidden Power and Built Form: The Politics Behind the Architecture',\n",
       "  'October 1, 2013'],\n",
       " ['Middle East peace talks a complete farce', 'September 5, 2013'],\n",
       " ['The \"Honest Broker\" is Crooked', 'September 2, 2013'],\n",
       " ['Why the Israel Palestine ‘Negotiations’ Are a Complete Farce',\n",
       "  'September 2, 2013'],\n",
       " ['Israel’s West Bank plans will leave Palestinians very little',\n",
       "  'August 16, 2013'],\n",
       " ['Is Edward J. Snowden Aboard This Plane?', 'August 1, 2013'],\n",
       " ['Fantasies', 'July 21, 2013'],\n",
       " ['The USA Remains Guilty in Guatemala', 'June 6, 2013'],\n",
       " ['Humanity Imperiled: The Path to Disaster', 'June 4, 2013'],\n",
       " ['Boston and Beyond', 'May 2, 2013'],\n",
       " ['In Palestine, Dignity and Violence', 'April 2, 2013'],\n",
       " ['The Cruelty That Keeps Empires Alive', 'April 2, 2013'],\n",
       " ['Can Civilization Survive Capitalism?', 'March 5, 2013'],\n",
       " ['Palestine 2012 Gaza and the UN resolution', 'December 1, 2012'],\n",
       " ['Impressions of Gaza', 'November 4, 2012'],\n",
       " ['The Week the World Stood Still: The Cuban Missile Crisis and Ownership of the World',\n",
       "  'October 15, 2012'],\n",
       " ['Issues that Obama and Romney Avoid', 'October 10, 2012'],\n",
       " ['War Drums Beat Ever More Loudly Over Iran', 'September 4, 2012'],\n",
       " ['Why USA and Israel Are the Greatest Threats to Peace', 'September 3, 2012'],\n",
       " ['In Hiroshima’s Shadow', 'August 2, 2012'],\n",
       " ['Destroying the Commons: How the Magna Carta Became a Minor Carta',\n",
       "  'July 22, 2012'],\n",
       " ['Somebody Else’s Atrocities', 'June 6, 2012'],\n",
       " ['Plutonomy and the Precariat: On the History of the USA Economy in Decline',\n",
       "  'May 8, 2012'],\n",
       " ['Cartagena, Beyond The Secret Service Scandal', 'May 3, 2012'],\n",
       " ['May Day by Noam Chomsky', 'April 29, 2012'],\n",
       " ['The Assault on Public Education', 'April 4, 2012'],\n",
       " ['What Are Iran Intentions?', 'March 2, 2012'],\n",
       " ['The Imperial Way: USA Decline in Perspective, Part 2', 'February 15, 2012'],\n",
       " ['“Losing” the World: USA Decline in Perspective, Part 1',\n",
       "  'February 14, 2012'],\n",
       " ['Anniversaries From \"Unhistory\"', 'February 6, 2012'],\n",
       " ['Recognizing the \"Unpeople\"', 'January 7, 2012'],\n",
       " ['Marching Off the Cliff', 'December 6, 2011'],\n",
       " ['Occupy The Future', 'November 1, 2011'],\n",
       " ['Was There an Alternative? Looking Back on 9 11 a Decade Later',\n",
       "  'September 6, 2011'],\n",
       " ['After 9 11, Was War the Only Option?', 'September 5, 2011'],\n",
       " ['USA Decline: Causes and Consequences', 'August 24, 2011'],\n",
       " ['La decadencia de Estados Unidos: causas y consecuencias',\n",
       "  '23 de agosto, 2011'],\n",
       " ['USA in Decline', 'August 5, 2011'],\n",
       " ['In Israel, A Tsunami Warning', 'July 7, 2011'],\n",
       " ['The Revenge Killing of Osama bin Laden', 'May 31, 2011'],\n",
       " ['The ‘Great Moderation’ and the International Assault on Labor',\n",
       "  'May 2, 2011'],\n",
       " ['There is Much More to Say', 'May 2011'],\n",
       " ['Is the World Too Big to Fail? The Contours of Global Order',\n",
       "  'April 21, 2011'],\n",
       " ['Libya and the World of Oil', 'April 4, 2011'],\n",
       " ['The Cairo Madison Connection', 'March 9, 2011'],\n",
       " ['It’s not radical Islam that worries the USA it’s independence',\n",
       "  'February 4, 2011'],\n",
       " ['\"The Arab World Is on Fire\"', 'February 3, 2011'],\n",
       " ['Breaking the Israel Palestine Deadlock', 'January 3, 2011'],\n",
       " ['The Charade of Israeli Palestinian Talks', 'December 6, 2010'],\n",
       " ['The Iranian Threat', 'July 2, 2010'],\n",
       " ['Noam Chomsky on Israel and the Gaza Flotilla Attack: “Sheer Criminal Aggression, with no Credible Pretext”',\n",
       "  'June 2, 2010'],\n",
       " ['A Middle East Peace That Could Happen : In Washington Speak, “Palestinian State” Means “Fried Chicken”',\n",
       "  'April 27, 2010'],\n",
       " ['Globalization Marches On: Growing popular outrage has not challenged corporate power',\n",
       "  'March 26, 2010'],\n",
       " ['Remembering Howard Zinn', 'March/April 2010'],\n",
       " ['The Corporate Takeover of USA Democracy', 'January 24, 2010'],\n",
       " ['Presidential “Peacemaking” in Latin USA', 'January 5, 2010'],\n",
       " ['The Legacy of 1989, in Two Hemispheres', 'December 3, 2009'],\n",
       " ['War, Peace, and Obama’s Nobel', 'November 5, 2009'],\n",
       " ['Barack Obama and the ‘Unipolar Moment’', 'October 6, 2009'],\n",
       " ['Coups, UNASUR, and the USA', 'October 2009'],\n",
       " ['Crisis and Hope: Theirs and Ours', 'September/October 2009'],\n",
       " ['Militarizing Latin USA', 'August 30, 2009'],\n",
       " ['Season of Travesties: Freedom and Democracy in mid 2009', 'July 9, 2009'],\n",
       " ['Turning Point?', 'June 7, 2009'],\n",
       " ['What Obama Didn’t Say in His Cairo Address Speaks Volumes About His Mideast Policy',\n",
       "  'June 4, 2009'],\n",
       " ['The Torture Memos', 'May 21, 2009'],\n",
       " ['Challenges For Barack Obama: Iraq, Pakistan and Afghanistan', 'March 2009'],\n",
       " ['Elections 2008 & Obama’s “Vision”: What we can expect in 2009, given both parties are well to the right of the population',\n",
       "  'February 2009'],\n",
       " ['Obama on Israel Palestine', 'January 24, 2009'],\n",
       " ['“Exterminate all the Brutes”: Gaza 2009',\n",
       "  'January 19, 2009 (revised June 6, 2009)'],\n",
       " ['The Election, Economy, War, and Peace', 'November 25, 2008'],\n",
       " ['It’s Fantasy Economy! Some Expert Views on What Should Happen Next',\n",
       "  'October 19, 2008'],\n",
       " ['Costos y riesgos socializados vs. Ganancias privatizadas: La crisis en los Estados Unidos',\n",
       "  'October 11, 2008'],\n",
       " ['Viewpoints: Where now for capitalism?', 'September 19, 2008'],\n",
       " ['Ossetia Russia Georgia', 'September 9, 2008'],\n",
       " ['Humanitarian Imperialism: The New Doctrine of Imperial Right',\n",
       "  'September, 2008'],\n",
       " ['Status of Forces Agreement', 'August 9, 2008'],\n",
       " ['All options on the table?', 'August 6, 2008'],\n",
       " ['It the oil, stupid!', 'July 8, 2008'],\n",
       " ['Bush’s bankrupt vision', 'June 1, 2008'],\n",
       " ['Noam Chomsky on 1968', 'May 8, 2008'],\n",
       " ['Can a Democrat change USA Middle East policy?', 'April 3, 2008'],\n",
       " ['The war everyone forgot', 'February 29, 2008'],\n",
       " ['The Most Wanted List, International Terrorism', 'February 26, 2008'],\n",
       " ['“Good News,” Iraq and Beyond', 'February 16, 2008'],\n",
       " ['Where’s the Iraqi voice?', 'February 1, 2008'],\n",
       " ['We Own the World', 'January 1, 2008'],\n",
       " ['Symposium on Margaret Boden, Mind as Machine: A History of Cognitive Science',\n",
       "  'October 11, 2007'],\n",
       " ['Cold War II', 'August 27, 2007'],\n",
       " ['Guillotining Gaza', 'July 30, 2007'],\n",
       " ['Starving the Poor', 'May 15, 2007'],\n",
       " ['What If Iran Had Invaded Mexico?', 'April 5, 2007'],\n",
       " ['In Memory of Tanya Reinhart', 'March 18, 2007'],\n",
       " ['South USA : Toward an Alternative Future', 'January 5, 2007'],\n",
       " ['Latin USA Declares Independence', 'October 3, 2006'],\n",
       " ['On the USA Israeli Invasion of Lebanon', 'August 19, 2006'],\n",
       " ['Solution in Sight', 'June 23, 2006'],\n",
       " ['A Just War? Hardly', 'May 9, 2006'],\n",
       " ['Superpower and Failed States', 'April 5, 2006'],\n",
       " ['The Israel Lobby?', 'March 28, 2006'],\n",
       " ['Latin USA and Asia Are at Last Breaking Free of Washington’s Grip',\n",
       "  'March 15, 2006'],\n",
       " ['New World Relationships', 'March 10, 2006'],\n",
       " ['Beyond the Ballot', 'January 6, 2006'],\n",
       " ['We are All Complicit', 'January, 2006'],\n",
       " ['A Dangerous Neighbourhood', 'December 8, 2005'],\n",
       " ['Intelligent Design?', 'October 6, 2005'],\n",
       " ['Wanted a Leader for USA', 'October 5, 2005'],\n",
       " ['The Evolution of the Language Faculty', 'September, 2005'],\n",
       " ['We Must Act Now to Prevent Another Hiroshima or Worse', 'August 7, 2005'],\n",
       " ['The Manipulation of Fear', 'July 16, 2005'],\n",
       " ['It’s Imperialism, Stupid', 'July 4, 2005'],\n",
       " ['What We Know', 'Summer, 2005'],\n",
       " ['The Social Security Non Crisis', 'June 1, 2005'],\n",
       " ['The Future of Iraq and USA Occupation', 'January 26, 2005'],\n",
       " ['Imperial Presidency', 'January/February 2005'],\n",
       " ['Simple Truths, Hard Problems', 'January, 2005'],\n",
       " ['On Colombia', 'December 2004'],\n",
       " ['2004 Elections', 'November 29, 2004'],\n",
       " ['Reshaping History', 'November 18-24, 2004'],\n",
       " ['The Disconnect in USA Democracy', 'October 29, 2004'],\n",
       " ['Understanding the Bush Doctrine', 'October 2, 2004'],\n",
       " ['From Central USA to Iraq', 'August 6, 2004'],\n",
       " ['How USA Determines Friends and Foes', 'March 14, 2004'],\n",
       " ['USA Haiti', 'March 9, 2004'],\n",
       " ['A Wall as a Weapon', 'February 23, 2004'],\n",
       " ['What a Fair Trial for Saddam Would Entail', 'January 25, 2004'],\n",
       " ['Selective Memory and a Dishonest Doctrine', 'December 21, 2003'],\n",
       " ['The Iraq War and Contempt for Democracy', 'October 31, 2003'],\n",
       " ['Moral Truisms, Empirical Evidence, and Foreign Policy', 'October, 2003'],\n",
       " ['Dominance and its Dilemmas', 'October, 2003'],\n",
       " ['Reasons to Fear USA', 'September 7, 2003'],\n",
       " ['Preventive War ‘the Supreme Crime’', 'August 11, 2003'],\n",
       " ['Deep Concerns', 'March 20, 2003'],\n",
       " ['The Case Against USA Adventurism in Iraq', 'March 13, 2003'],\n",
       " ['Wars of Terror', 'March, 2003'],\n",
       " ['The People in Gravest Danger', 'March 1, 2003'],\n",
       " ['Human Rights Week 2002', 'December 28, 2002'],\n",
       " ['A Modest Proposal', 'December 3, 2002'],\n",
       " ['The Faculty of Language', 'November 22, 2002'],\n",
       " ['Drain the Swamp and There Will Be No More Mosquitoes', 'September 9, 2002'],\n",
       " ['What USA Have Learnt and not Learnt Since 9 11', 'September 7, 2002'],\n",
       " ['The Crimes of ‘Intcom’', 'September, 2002'],\n",
       " ['Mirror Crack’d', 'September, 2002'],\n",
       " ['Terror and Just Response', 'July 2, 2002'],\n",
       " ['Constructive Action?', 'May 11, 2002'],\n",
       " ['Who are the Global Terrorists?', 'May, 2002'],\n",
       " ['Back in the USA', 'May, 2002'],\n",
       " ['The War In Afghanistan', 'February 1, 2002'],\n",
       " ['A Quick Reaction', 'September 12, 2001'],\n",
       " ['Neocolonial Invitation to a Tribal War', 'August 13, 2001'],\n",
       " ['A Review of NATO’s War over Kosovo', 'April-May, 2001'],\n",
       " ['Introduction: Project Censored 25th Anniversary', 'April, 2001'],\n",
       " ['Voting Patterns and Abstentions', 'February, 2001'],\n",
       " ['How USA Democracy Triumphed Again', 'January 14, 2001'],\n",
       " ['Elections 2000', 'January, 2001'],\n",
       " ['Blinded by the Truth', 'Number 506, 2-8 November, 2000'],\n",
       " ['The Colombia Plan: April 2000', 'June, 2000'],\n",
       " ['Green Light for War Crimes', 'May 2000'],\n",
       " ['Another Way For Kosovo?', 'March 14, 2000'],\n",
       " ['Linguistics and Brain Science', '2000'],\n",
       " ['Thoughts Of A Secular Sufi', '2000'],\n",
       " ['East Timor Questions & Answers', 'October, 1999'],\n",
       " ['East Timor Retrospective', 'October, 1999'],\n",
       " ['East Timor', 'September 10, 1999'],\n",
       " ['Domestic Terrorism', 'September, 1999'],\n",
       " ['Why USA Should Care about East Timor', 'August 26, 1999'],\n",
       " ['Kosovo Peace Accord', 'July, 1999'],\n",
       " ['Crisis in the Balkans', 'May, 1999'],\n",
       " ['The Current Bombings: Behind the Rhetoric', 'March, 1999'],\n",
       " ['The USA and the \"Challenge of Relativity\"', 'November, 1998'],\n",
       " ['A Century Later', 'September, 1998'],\n",
       " ['Hordes of Vigilantes & Popular Elements Defeat MAI, for Now',\n",
       "  'August, 1998'],\n",
       " ['Jubilee 2000', 'May 15, 1998'],\n",
       " ['Domestic Constituencies', 'May, 1998'],\n",
       " ['Rogue States', 'April, 1998'],\n",
       " ['Market Democracy in a Neoliberal Order: Doctrines and Reality',\n",
       "  'November, 1997'],\n",
       " ['What Makes Mainstream Media Mainstream', 'October, 1997'],\n",
       " ['The Passion for Free Markets', 'May, 1997'],\n",
       " ['The Culture of Fear', 'July, 1996'],\n",
       " ['Old Wine in New Bottles: A Bitter Taste', 'June, 1996'],\n",
       " ['Israel, Lebanon, and the “Peace Process”', 'April 23, 1996'],\n",
       " ['Review of Man of the People: A Life of Harry S Truman by Alonzo L Hamby',\n",
       "  'March 8, 1996'],\n",
       " ['Eastern Exposure: Misrepresenting the Peace Process', 'February 6, 1996'],\n",
       " ['A Painful Peace', 'January, 1996'],\n",
       " ['Guilt of War Belongs to All', 'July 30, 1995'],\n",
       " ['Memories', 'July-August, 1995'],\n",
       " ['Rollback', 'January-May, 1995'],\n",
       " ['Introduction', '1995'],\n",
       " ['Rationality Science', '1995'],\n",
       " ['Democracy Restored', 'November, 1994'],\n",
       " ['An Island Lies Bleeding', 'July 5, 1994'],\n",
       " ['On The USA Human Rights Record', 'July, 1994'],\n",
       " ['Democracy Enhancement', 'May-August, 1994'],\n",
       " ['The Clinton Vision: Update', 'January, 1994'],\n",
       " ['Humanitarian Intervention', 'December, 1993 - January, 1994'],\n",
       " ['The Clinton Vision', 'December, 1993'],\n",
       " ['The Israel Arafat Agreement', 'October, 1993'],\n",
       " ['“Limited War” in Lebanon', 'September, 1993'],\n",
       " ['No Longer Safe', 'May, 1993'],\n",
       " ['Notes of NAFTA: “The Masters of Man”', 'March, 1993'],\n",
       " ['“Mandate for Change,” or Business as Usual', 'February, 1993'],\n",
       " ['Vain Hopes, False Dreams', 'September, 1992'],\n",
       " ['International Terrorism: Image and Reality', 'December, 1991'],\n",
       " ['Middle East Diplomacy: Continuities and Changes', 'December, 1991'],\n",
       " ['Aftermath', 'October, 1991'],\n",
       " ['Force and Opinion', 'July-August, 1991'],\n",
       " ['“What We Say Goes”: The Middle East in the New World Order', 'May, 1991'],\n",
       " ['Gulf War Pullout', 'February, 1991'],\n",
       " ['The Gulf Crisis', 'February, 1991'],\n",
       " ['The Victors', 'November, 1990'],\n",
       " ['The Decline of the Democratic Ideal', 'May, 1990'],\n",
       " ['Revolution of ’89', 'January 29, 1990'],\n",
       " ['Invasion Newspeak: USA & USSR', 'December, 1989'],\n",
       " ['Scenes from the Uprising', 'July, 1988'],\n",
       " ['Central USA : The Next Phase', 'March, 1988'],\n",
       " ['Is Peace at Hand?', 'January, 1988'],\n",
       " ['The Empire and Ourselves', 'April 9, 1986'],\n",
       " ['Visions of Righteousness', 'Spring, 1986'],\n",
       " ['The Soviet Union Versus Socialism', 'Spring/Summer, 1986'],\n",
       " ['His Right to Say It', 'February 28, 1981'],\n",
       " ['Some Elementary Comments on The Rights of Freedom of Expression',\n",
       "  'October, 1980'],\n",
       " ['Language Development, Human Intelligence, and Social Organization', '1978'],\n",
       " ['Distortions at Fourth Hand', 'June 25, 1977'],\n",
       " ['The Meaning of Vietnam', 'June 12, 1975'],\n",
       " ['The Repression at Belgrade University', 'February 7, 1974'],\n",
       " ['The President and the Presidency', 'November, 1973'],\n",
       " ['Watergate: A Skeptical View', 'September 20, 1973'],\n",
       " ['The Pentagon Papers and USA Imperialism in South East Asia',\n",
       "  'Winter 1972/1973'],\n",
       " ['Vietnam: How Government Became Wolves', 'June 15, 1972'],\n",
       " ['The Case Against B.F. Skinner', 'December 30, 1971'],\n",
       " ['Mayday: The Case for Civil Disobedience', 'June 17, 1971'],\n",
       " ['Foreword', '1971'],\n",
       " ['After Pinkville', '1971'],\n",
       " ['In Defense of the Student Movement', '1971'],\n",
       " ['In North Vietnam', 'August 13, 1970'],\n",
       " ['A Visit to Laos', 'July 23, 1970'],\n",
       " ['Cambodia', 'June 4, 1970'],\n",
       " ['Notes on Anarchism', '1970'],\n",
       " ['The Menace of Liberal Scholarship', 'January 2, 1969'],\n",
       " ['Philosophers and Public Philosophy', 'October, 1968'],\n",
       " ['Reflections on a Political Trial', 'August 22, 1968'],\n",
       " ['On Resistance', 'December 7, 1967'],\n",
       " ['On the Backgrounds of the Pacific War', 'September-October, 1967'],\n",
       " ['The Responsibility of Intellectuals', 'February 23, 1967'],\n",
       " ['Review of B. F. Skinner’s Verbal Behavior', '1967'],\n",
       " ['Three Models for the Description of Language', 'September, 1956'],\n",
       " ['Logical Syntax and Semantics', 'January-March, 1955'],\n",
       " ['Systems of Syntactic Analysis', 'September, 1953']]"
      ]
     },
     "execution_count": 20,
     "metadata": {},
     "output_type": "execute_result"
    }
   ],
   "source": [
    "clean_data"
   ]
  },
  {
   "cell_type": "markdown",
   "metadata": {},
   "source": [
    "## Text Analysis"
   ]
  },
  {
   "cell_type": "code",
   "execution_count": 21,
   "metadata": {},
   "outputs": [
    {
     "name": "stdout",
     "output_type": "stream",
     "text": [
      "['independence', 'of', 'journalism', 'usa', 'isolation', 'an', 'eight', 'point', 'brief', 'for']\n"
     ]
    }
   ],
   "source": [
    "# We start by looking at the unigrams of titles\n",
    "import nltk\n",
    "\n",
    "# extract the title of every article\n",
    "titles = [item[0] for item in clean_data]\n",
    "\n",
    "\n",
    "# tokenize each title, lowercase the tokens to normalize everything, place them all in a list\n",
    "tokens = [token.lower() for title in titles for token in nltk.word_tokenize(title) if token.isalpha()]\n",
    "print(tokens[:10])"
   ]
  },
  {
   "cell_type": "code",
   "execution_count": 22,
   "metadata": {},
   "outputs": [
    {
     "data": {
      "image/png": "[encoded data removed]",
      "text/plain": [
       "<matplotlib.figure.Figure at 0xe6beb0ab38>"
      ]
     },
     "metadata": {},
     "output_type": "display_data"
    }
   ],
   "source": [
    "# First thing to do is to look at the count or frequency of words\n",
    "# NLTK has a nice convenient class to do this called FreqDist, and Python also has collections.Counter() which would do the same thing\n",
    "# in this example we use FreqDist \n",
    "frequencyDistribution = nltk.FreqDist(tokens)\n",
    "plt.figure(figsize=(12, 6))\n",
    "# plot the top 20 tokens\n",
    "frequencyDistribution.plot(20)"
   ]
  },
  {
   "cell_type": "code",
   "execution_count": 23,
   "metadata": {},
   "outputs": [
    {
     "name": "stdout",
     "output_type": "stream",
     "text": [
      "['i', 'me', 'my', 'myself', 'we', 'our', 'ours', 'ourselves', 'you', \"you're\", \"you've\", \"you'll\", \"you'd\", 'your', 'yours']\n"
     ]
    }
   ],
   "source": [
    "# The plot shows a good start, however, there are words such as \"the\" or \"of\" that we don't want\n",
    "# nltk has a collection of stopwords that we can use\n",
    "from nltk.corpus import stopwords\n",
    "\n",
    "stoplist = stopwords.words('english')\n",
    "print(stoplist[:15])"
   ]
  },
  {
   "cell_type": "code",
   "execution_count": 24,
   "metadata": {},
   "outputs": [
    {
     "data": {
      "image/png": "[encoded data removed]",
      "text/plain": [
       "<matplotlib.figure.Figure at 0xe6beaf2278>"
      ]
     },
     "metadata": {},
     "output_type": "display_data"
    }
   ],
   "source": [
    "tokens = [token for token in tokens if token not in stoplist]\n",
    "frequencyDistribution = nltk.FreqDist(tokens)\n",
    "plt.figure(figsize=(12, 6))\n",
    "# plot the top 20 tokens\n",
    "frequencyDistribution.plot(20)"
   ]
  },
  {
   "cell_type": "code",
   "execution_count": 25,
   "metadata": {},
   "outputs": [
    {
     "data": {
      "image/png": "[encoded data removed]",
      "text/plain": [
       "<matplotlib.figure.Figure at 0xe6bc402748>"
      ]
     },
     "metadata": {},
     "output_type": "display_data"
    },
    {
     "data": {
      "image/png": "[encoded data removed]",
      "text/plain": [
       "<matplotlib.figure.Figure at 0xe6bebdaf98>"
      ]
     },
     "metadata": {},
     "output_type": "display_data"
    }
   ],
   "source": [
    "# Apparently Noam Choamsky is writes mostly about USA, WAR, Middle east and Peace\n",
    "# One step furthere is to perform bigrams and trigrams \n",
    "from nltk.util import bigrams, trigrams\n",
    "from itertools import chain\n",
    "\n",
    "# we don't want to use the tokens all mashed together like before because we don't\n",
    "# want to connect the last token in a title with the first token in a different \n",
    "# title, so we do it per title\n",
    "tokensPerTitle = [nltk.word_tokenize(title) for title in titles]\n",
    "tokensPerTitle = [[token.lower() for token in t if token.isalpha() and token.lower() not in stoplist] for t in tokensPerTitle]\n",
    "\n",
    "# now we need to do some crazy python list unpacking which you might not understand\n",
    "# but this is just making a single list of the bigrams of each title\n",
    "b = list(chain(*[(list(bigrams(tokens))) for tokens in tokensPerTitle]))\n",
    "# same with trigrams\n",
    "t = list(chain(*[(list(trigrams(tokens))) for tokens in tokensPerTitle]))\n",
    "\n",
    "fdist = nltk.FreqDist(b)\n",
    "plt.figure(figsize=(12, 6))\n",
    "# plot the top 20 bigrams\n",
    "fdist.plot(20)\n",
    "\n",
    "fdist = nltk.FreqDist(t)\n",
    "plt.figure(figsize=(12, 6))\n",
    "# plot the top 20 trigrams\n",
    "fdist.plot(20)"
   ]
  },
  {
   "cell_type": "markdown",
   "metadata": {},
   "source": [
    "## Text Classification"
   ]
  },
  {
   "cell_type": "code",
   "execution_count": 26,
   "metadata": {},
   "outputs": [
    {
     "name": "stdout",
     "output_type": "stream",
     "text": [
      "[False, True, False, False, False, False, False, False, True, False, False, False, True, False, False, True, False, False, False, False, False, False, False, False, False, False, False, False, False, False, False, True, False, False, False, False, False, True, True, True, True, True, False, False, False, False, False, False, False, False, True, False, False, False, False, False, False, False, False, False, False, True, False, False, False, True, False, False, False, False, True, True, False, False, False, False, False, False, True, False, True, False, False, False, False, False, False, False, True, False, False, False, False, False, False, False, False, True, True, False, False, False, True, False, True, False, False, False, False, False, False, False, False, False, False, False, False, False, False, False, False, False, False, False, True, False, False, False, False, False, False, False, False, False, False, False, True, True, True, False, False, False, False, True, False, False, False, False, False, True, False, False, False, False, False, False, True, False, False, False, False, False, True, False, True, True, True, False, False, False, False, False, False, True, False, False, True, False, False, False, False, False, False, True, False, False, False, False, False, True, False, False, False, False, False, False, True, False, False, False, False, False, False, False, False, False, False, False, True, False, False, False, True, False, False, False, False, False, False, False, False, False, False, False, False, False, False, False, False, False, False, False, False, False, True, False, False, False, False, False, False, False, False, False, False, False, False, False, False, False, False, False, False, False, False, True, False, True, False, False, False, False, False, False, False, False, False, False, False, False, True, False, False, False, False, False, False, False, False, False, False, False, False, False, False, False, False, False, False, False, False]\n"
     ]
    }
   ],
   "source": [
    "# First of all, words like violations and violation should be counted as \n",
    "# the same word, so let's \"lemmatize\" them which means to convert \n",
    "# them to their base \"lemma\" e.g. studying -> study\n",
    "from nltk.stem.wordnet import WordNetLemmatizer\n",
    "\n",
    "\n",
    "def Lemmatize(word):\n",
    "    wnl = WordNetLemmatizer()\n",
    "    # try to lemmatize verbs first\n",
    "    lemma = wnl.lemmatize(word, 'v')\n",
    "    # if nothing changed, try it as a noun\n",
    "    if lemma == word:\n",
    "        return wnl.lemmatize(word)\n",
    "    return lemma\n",
    "        \n",
    "titles = [[Lemmatize(token) for token in title] for title in tokensPerTitle]\n",
    "    \n",
    "# next, we set up data for training and testing.\n",
    "labels = [\"usa\" in title for title in titles]\n",
    "print(labels)"
   ]
  },
  {
   "cell_type": "code",
   "execution_count": 27,
   "metadata": {
    "scrolled": false
   },
   "outputs": [
    {
     "name": "stderr",
     "output_type": "stream",
     "text": [
      "f:\\Users\\Tahar\\Anacondanew\\envs\\ztdl\\lib\\site-packages\\sklearn\\cross_validation.py:44: DeprecationWarning: This module was deprecated in version 0.18 in favor of the model_selection module into which all the refactored classes and functions are moved. Also note that the interface of the new CV iterators are different from that of this module. This module will be removed in 0.20.\n",
      "  \"This module will be removed in 0.20.\", DeprecationWarning)\n",
      "f:\\Users\\Tahar\\Anacondanew\\envs\\ztdl\\lib\\site-packages\\sklearn\\grid_search.py:43: DeprecationWarning: This module was deprecated in version 0.18 in favor of the model_selection module into which all the refactored classes and functions are moved. This module will be removed in 0.20.\n",
      "  DeprecationWarning)\n"
     ]
    },
    {
     "name": "stdout",
     "output_type": "stream",
     "text": [
      "LinearSVM with TF-IDF\n",
      "Best score: 0.8487972508591065\n",
      "-------------------------------------------------------------------------------\n",
      "LinearSVM with Counts\n",
      "Best score: 0.8487972508591065\n",
      "-------------------------------------------------------------------------------\n",
      "SVM with TF-IDF\n",
      "Best score: 0.8487972508591065\n",
      "-------------------------------------------------------------------------------\n",
      "SVM with Counts\n",
      "Best score: 0.8487972508591065\n",
      "-------------------------------------------------------------------------------\n",
      "NB with TF-IDF\n",
      "Best score: 0.8487972508591065\n",
      "-------------------------------------------------------------------------------\n",
      "NB with Counts\n",
      "Best score: 0.845360824742268\n",
      "-------------------------------------------------------------------------------\n"
     ]
    }
   ],
   "source": [
    "# we want to remove the word \"usa\" from the titles, so the ML \n",
    "# algorithm doesn't pick up on that feature\n",
    "for title in titles:\n",
    "    while \"usa\" in title:\n",
    "        title.remove(\"usa\")\n",
    "\n",
    "\n",
    "from sklearn.svm import SVC, LinearSVC\n",
    "from sklearn.naive_bayes import MultinomialNB\n",
    "from sklearn.feature_extraction.text import TfidfVectorizer, CountVectorizer\n",
    "from sklearn.grid_search import GridSearchCV\n",
    "from sklearn.pipeline import Pipeline\n",
    "\n",
    "# scikit's vectorizers actually can do all the tokenizing, and stoplisting, and the n-gram extraction.\n",
    "# we need to convert the title tokens back to single strings\n",
    "Xdata = [\" \".join(title) for title in titles]\n",
    "\n",
    "# We're going to use Scikit's \"Gridsearch\", We're also going to try these two feature vectorizers \n",
    "# And we're gonna test out SVMs vs Naive Bayes\n",
    "\n",
    "# These are the feature vectorizers that will convert the text to number matrices\n",
    "tfidf = TfidfVectorizer()\n",
    "count = CountVectorizer()\n",
    "\n",
    "# We use pipeline module to build our models\n",
    "LinSVMTfidf = Pipeline([('feats', tfidf), ('clf', LinearSVC())])\n",
    "LinSVMCount = Pipeline([('feats', count), ('clf', LinearSVC())])\n",
    "\n",
    "SVMTfidf = Pipeline([('feats', tfidf), ('clf', SVC())])\n",
    "SVMCount = Pipeline([('feats', count), ('clf', SVC())])\n",
    "\n",
    "NBTfidf = Pipeline([('feats', tfidf), ('clf', MultinomialNB())])\n",
    "NBCount = Pipeline([('feats', count), ('clf', MultinomialNB())])\n",
    "\n",
    "# Parameters\n",
    "LinSVMParams = {'clf__C': (.01, .1, 1, 10, 100), 'feats__ngram_range': ((1,1), (1,2), (1,3)), 'feats__binary': (True, False)}\n",
    "SVMParams = {'clf__C': (.01, .1, 1, 10, 100), 'clf__gamma': (.01, .1, 1, 10, 100), 'feats__ngram_range': ((1,1), (1,2), (1,3)), 'feats__binary': (True, False)}\n",
    "NBParams = {'feats__ngram_range': ((1,1), (1,2), (1,3)), 'feats__binary': (True, False)}\n",
    "    \n",
    "def printGridSearchResults(gs, params, x, y):\n",
    "    pipe = gs.fit(x, y)\n",
    "    print(\"Best score: \" + str(pipe.best_score_))\n",
    "    print(\"-------------------------------------------------------------------------------\")\n",
    "    \n",
    "# lets make some gridsearch objects and see what happens\n",
    "# n_jobs=-1, cv=5 \n",
    "gsLinSVMTfidf = GridSearchCV(LinSVMTfidf, LinSVMParams, n_jobs=-1, cv=5)\n",
    "gsLinSVMCount = GridSearchCV(LinSVMCount, LinSVMParams, n_jobs=-1, cv=5)\n",
    "gsSVMTfidf = GridSearchCV(SVMTfidf, SVMParams, n_jobs=-1, cv=5)\n",
    "gsSVMCount = GridSearchCV(SVMCount, SVMParams, n_jobs=-1, cv=5)\n",
    "gsNBTfidf = GridSearchCV(NBTfidf, NBParams, n_jobs=-1, cv=5)\n",
    "gsNBCount = GridSearchCV(NBCount, NBParams, n_jobs=-1, cv=5)\n",
    "    \n",
    "print(\"LinearSVM with TF-IDF\")\n",
    "printGridSearchResults(gsLinSVMTfidf, LinSVMParams, Xdata, labels)\n",
    "\n",
    "print(\"LinearSVM with Counts\")\n",
    "printGridSearchResults(gsLinSVMCount, LinSVMParams, Xdata, labels)\n",
    "\n",
    "print(\"SVM with TF-IDF\")\n",
    "printGridSearchResults(gsSVMTfidf, SVMParams, Xdata, labels)\n",
    "\n",
    "print(\"SVM with Counts\")\n",
    "printGridSearchResults(gsSVMCount, SVMParams, Xdata, labels)\n",
    "\n",
    "print(\"NB with TF-IDF\")\n",
    "printGridSearchResults(gsNBTfidf, NBParams, Xdata, labels)\n",
    "\n",
    "print(\"NB with Counts\")\n",
    "printGridSearchResults(gsNBCount, NBParams, Xdata, labels)"
   ]
  },
  {
   "cell_type": "code",
   "execution_count": 28,
   "metadata": {},
   "outputs": [
    {
     "name": "stdout",
     "output_type": "stream",
     "text": [
      "Class 1 best: \n",
      "(-0.084178170718555115, 'war')\n",
      "(-0.058641474272876401, 'obama')\n",
      "(-0.053242957672735854, 'gaza')\n",
      "(-0.04611532156747785, 'crisis')\n",
      "(-0.042878597348440808, 'peace')\n",
      "(-0.042356747869512518, 'beyond')\n",
      "(-0.035974385549468677, 'language')\n",
      "(-0.035353457519062707, 'palestine')\n",
      "(-0.03533787236576847, 'doctrine')\n",
      "(-0.035109237576930352, 'new')\n",
      "Class 2 best: \n",
      "(0.12624083967589619, 'decline')\n",
      "(0.111286834951803, 'latin')\n",
      "(0.062454042289999262, 'iraq')\n",
      "(0.059046432781269337, 'invasion')\n",
      "(0.058821272282325622, 'central')\n",
      "(0.058062313218158995, 'history')\n",
      "(0.056104148432799712, 'south')\n",
      "(0.055511283796020661, 'leader')\n",
      "(0.054612715688613186, 'takeover')\n",
      "(0.05370822439056621, 'asia')\n"
     ]
    }
   ],
   "source": [
    "# seems that the best performance was achieved with Naive Bayes with Counts features \n",
    "# in smaller datasets, counts better choice than tf-idf\n",
    "# Best score: 0.9385665529010239\n",
    "\n",
    "# Let's look at the best words (we use linear SVM to get weights)\n",
    "def printNMostInformative(vectorizer, clf, N):\n",
    "    \"\"\"Prints features with the highest coefficient values, per class\"\"\"\n",
    "    feature_names = vectorizer.get_feature_names()\n",
    "    coefs_with_fns = sorted(zip(clf.coef_[0], feature_names))\n",
    "    topClass1 = coefs_with_fns[:N]\n",
    "    topClass2 = coefs_with_fns[:-(N + 1):-1]\n",
    "    print(\"Class 1 best: \")\n",
    "    for feat in topClass1:\n",
    "        print(feat)\n",
    "    print(\"Class 2 best: \")\n",
    "    for feat in topClass2:\n",
    "        print(feat)\n",
    "            \n",
    "clf = LinearSVC(C=.01)\n",
    "feats = CountVectorizer(binary=True, ngram_range=(1,1))\n",
    "LinearSVMPipe = Pipeline([('feats', feats), ('clf', clf)])\n",
    "LinearSVMPipe.fit(Xdata, labels)\n",
    "printNMostInformative(feats, clf, 10)"
   ]
  },
  {
   "cell_type": "code",
   "execution_count": null,
   "metadata": {
    "collapsed": true
   },
   "outputs": [],
   "source": []
  },
  {
   "cell_type": "code",
   "execution_count": null,
   "metadata": {
    "collapsed": true
   },
   "outputs": [],
   "source": []
  }
 ],
 "metadata": {
  "kernelspec": {
   "display_name": "Python 3",
   "language": "python",
   "name": "python3"
  },
  "language_info": {
   "codemirror_mode": {
    "name": "ipython",
    "version": 3
   },
   "file_extension": ".py",
   "mimetype": "text/x-python",
   "name": "python",
   "nbconvert_exporter": "python",
   "pygments_lexer": "ipython3",
   "version": "3.5.4"
  }
 },
 "nbformat": 4,
 "nbformat_minor": 2
}
