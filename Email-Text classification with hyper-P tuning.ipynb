{
 "cells": [
  {
   "cell_type": "markdown",
   "metadata": {},
   "source": [
    "### Email-Text classification with hyper-P tuning"
   ]
  },
  {
   "cell_type": "code",
   "execution_count": 1,
   "metadata": {
    "collapsed": true
   },
   "outputs": [],
   "source": [
    "# IMPORTS\n",
    "\n",
    "from timeit import default_timer as timer\n",
    "import pandas as pd\n",
    "from collections import Counter\n",
    "\n",
    "# import the news dataset\n",
    "from sklearn.datasets import fetch_20newsgroups \n",
    "\n",
    "# NLKT imports\n",
    "import string\n",
    "from nltk.corpus import stopwords\n",
    "from nltk.stem import PorterStemmer\n",
    "from nltk import word_tokenize\n",
    "\n",
    "# Sckit learn imports\n",
    "from sklearn.model_selection import train_test_split\n",
    "from sklearn.naive_bayes import MultinomialNB\n",
    "from sklearn.pipeline import Pipeline\n",
    "from sklearn.feature_extraction.text import TfidfVectorizer"
   ]
  },
  {
   "cell_type": "code",
   "execution_count": 2,
   "metadata": {},
   "outputs": [
    {
     "name": "stdout",
     "output_type": "stream",
     "text": [
      "There are 18846 raw texts\n",
      "There are 20 news categories\n",
      "The categories names are ['alt.atheism', 'comp.graphics', 'comp.os.ms-windows.misc', 'comp.sys.ibm.pc.hardware', 'comp.sys.mac.hardware', 'comp.windows.x', 'misc.forsale', 'rec.autos', 'rec.motorcycles', 'rec.sport.baseball', 'rec.sport.hockey', 'sci.crypt', 'sci.electronics', 'sci.med', 'sci.space', 'soc.religion.christian', 'talk.politics.guns', 'talk.politics.mideast', 'talk.politics.misc', 'talk.religion.misc']\n",
      "[rec.sport.hockey]:\t\t \"From: Mamatha Devineni Ratnam <mr47+@andrew.cmu.edu> ...\"\n",
      "[comp.sys.ibm.pc.hardware]:\t\t \"From: mblawson@midway.ecn.uoknor.edu (Matthew B Lawson) ...\"\n",
      "[talk.politics.mideast]:\t\t \"From: hilmi-er@dsv.su.se (Hilmi Eren) ...\"\n",
      "[comp.sys.ibm.pc.hardware]:\t\t \"From: guyd@austin.ibm.com (Guy Dawson) ...\"\n",
      "[comp.sys.mac.hardware]:\t\t \"From: Alexander Samuel McDiarmid <am2o+@andrew.cmu.edu> ...\"\n",
      "[sci.electronics]:\t\t \"From: tell@cs.unc.edu (Stephen Tell) ...\"\n",
      "[comp.sys.mac.hardware]:\t\t \"From: lpa8921@tamuts.tamu.edu (Louis Paul Adams) ...\"\n",
      "[rec.sport.hockey]:\t\t \"From: dchhabra@stpl.ists.ca (Deepak Chhabra) ...\"\n",
      "[rec.sport.hockey]:\t\t \"From: dchhabra@stpl.ists.ca (Deepak Chhabra) ...\"\n",
      "[talk.religion.misc]:\t\t \"From: arromdee@jyusenkyou.cs.jhu.edu (Ken Arromdee) ...\"\n"
     ]
    }
   ],
   "source": [
    "# LOAD\n",
    "\n",
    "news = fetch_20newsgroups(subset='all') # we load both \"train\" and \"test\" subsets to use later in classification\n",
    "\n",
    "print('There are {} raw texts'.format(len(news.data))) # number of raw texts\n",
    "print('There are {} news categories'.format(len(news.target_names))) # number of categories\n",
    "print('The categories names are {}'.format(news.target_names)) # names of categories\n",
    "\n",
    "# Print the above selections\n",
    "for text, num_label in zip(news.data[:10], news.target[:10]):\n",
    "    print('[%s]:\\t\\t \"%s ...\"' % (news.target_names[num_label], text[:100].split('\\n')[0]))"
   ]
  },
  {
   "cell_type": "code",
   "execution_count": 20,
   "metadata": {},
   "outputs": [
    {
     "name": "stdout",
     "output_type": "stream",
     "text": [
      "Counter({10: 999, 15: 997, 8: 996, 9: 994, 11: 991, 7: 990, 13: 990, 5: 988, 14: 987, 2: 985, 12: 984, 3: 982, 6: 975, 1: 973, 4: 963, 17: 940, 16: 910, 0: 799, 18: 775, 19: 628})\n"
     ]
    }
   ],
   "source": [
    "# checking the propotion of every category\n",
    "print(Counter(news.target))"
   ]
  },
  {
   "cell_type": "code",
   "execution_count": 3,
   "metadata": {
    "collapsed": true
   },
   "outputs": [],
   "source": [
    "# a function to train and fit the model\n",
    "def train_model(clf, X, y):\n",
    "    X_train, X_test, y_train, y_test = train_test_split(X, y, test_size=0.25, random_state=33)\n",
    "    clf.fit(X_train, y_train)\n",
    "    print(\"Accuracy: {:.6f}\".format(clf.score(X_test, y_test))) # since there no class imballance, Accuracy can be used as performance metric\n",
    "    return clf.score(X_test, y_test)"
   ]
  },
  {
   "cell_type": "code",
   "execution_count": 4,
   "metadata": {},
   "outputs": [
    {
     "name": "stdout",
     "output_type": "stream",
     "text": [
      "Accuracy: 0.846350\n"
     ]
    }
   ],
   "source": [
    "# create a dictionary for execution time when chaning parameters\n",
    "tests_dic = {}\n",
    "\n",
    "# baseline\n",
    "test1 = Pipeline([\n",
    "                ('vectorizer', TfidfVectorizer()),\n",
    "                ('classifier', MultinomialNB()),\n",
    "                ])\n",
    "start = timer()\n",
    "accuracy = train_model(test1, news.data, news.target)\n",
    "end  = timer()\n",
    "\n",
    "run_time = end - start\n",
    "tests_dic['test'] = ['baseline']\n",
    "tests_dic['time'] = [run_time]\n",
    "tests_dic['accuracy'] = [accuracy]"
   ]
  },
  {
   "cell_type": "code",
   "execution_count": 5,
   "metadata": {},
   "outputs": [
    {
     "name": "stdout",
     "output_type": "stream",
     "text": [
      "Accuracy: 0.877759\n"
     ]
    }
   ],
   "source": [
    "# include stopwords\n",
    "test2 = Pipeline([\n",
    "                ('vectorizer', TfidfVectorizer(stop_words=stopwords.words('english'))),\n",
    "                ('classifier', MultinomialNB()),\n",
    "                ])\n",
    "start = timer()\n",
    "accuracy = train_model(test2, news.data, news.target)\n",
    "end  = timer()\n",
    "\n",
    "run_time = end - start\n",
    "\n",
    "run_time = end - start\n",
    "tests_dic['test'].append('stopwords')\n",
    "tests_dic['time'].append(run_time)\n",
    "tests_dic['accuracy'].append(accuracy)"
   ]
  },
  {
   "cell_type": "code",
   "execution_count": 6,
   "metadata": {},
   "outputs": [
    {
     "name": "stdout",
     "output_type": "stream",
     "text": [
      "Accuracy: 0.910229\n"
     ]
    }
   ],
   "source": [
    "# change alpha\n",
    "test3 = Pipeline([\n",
    "                ('vectorizer', TfidfVectorizer(stop_words=stopwords.words('english'))),\n",
    "                ('classifier', MultinomialNB(alpha=0.05)),\n",
    "                ])\n",
    "start = timer()\n",
    "accuracy = train_model(test3, news.data, news.target)\n",
    "end  = timer()\n",
    "\n",
    "run_time = end - start\n",
    "\n",
    "tests_dic['test'].append('alpha')\n",
    "tests_dic['time'].append(run_time)\n",
    "tests_dic['accuracy'].append(accuracy)"
   ]
  },
  {
   "cell_type": "code",
   "execution_count": 7,
   "metadata": {},
   "outputs": [
    {
     "name": "stdout",
     "output_type": "stream",
     "text": [
      "Accuracy: 0.910229\n"
     ]
    }
   ],
   "source": [
    "# minimum frequency\n",
    "test4 = Pipeline([\n",
    "                ('vectorizer', TfidfVectorizer(stop_words=stopwords.words('english'),\n",
    "                                               min_df=3)),\n",
    "                ('classifier', MultinomialNB(alpha=0.05)),\n",
    "                ])\n",
    "start = timer()\n",
    "accuracy = train_model(test3, news.data, news.target)\n",
    "end = timer()\n",
    "run_time = end-start\n",
    "\n",
    "tests_dic['test'].append('minimum_freq')\n",
    "tests_dic['time'].append(run_time)\n",
    "tests_dic['accuracy'].append(accuracy)\n"
   ]
  },
  {
   "cell_type": "code",
   "execution_count": 8,
   "metadata": {},
   "outputs": [
    {
     "name": "stdout",
     "output_type": "stream",
     "text": [
      "Accuracy: 0.910866\n"
     ]
    }
   ],
   "source": [
    "# stemmer\n",
    "def stemming_tokenizer(text):\n",
    "    stemmer = PorterStemmer()\n",
    "    return [stemmer.stem(w) for w in word_tokenize(text)]\n",
    " \n",
    "test5 = Pipeline([\n",
    "    ('vectorizer', TfidfVectorizer(tokenizer=stemming_tokenizer,\n",
    "                             stop_words=stopwords.words('english') + list(string.punctuation))),\n",
    "    ('classifier', MultinomialNB(alpha=0.05)),\n",
    "])\n",
    " \n",
    "start = timer()\n",
    "accuracy = train_model(test5, news.data, news.target)\n",
    "end = timer()\n",
    "run_time = end - start\n",
    "\n",
    "tests_dic['test'].append('stemmer')\n",
    "tests_dic['time'].append(run_time)\n",
    "tests_dic['accuracy'].append(accuracy)\n"
   ]
  },
  {
   "cell_type": "code",
   "execution_count": 9,
   "metadata": {},
   "outputs": [],
   "source": [
    "df = pd.DataFrame(tests_dic)"
   ]
  },
  {
   "cell_type": "code",
   "execution_count": 10,
   "metadata": {
    "collapsed": true
   },
   "outputs": [],
   "source": [
    "# create improvement features that calculates the differences between different changes in the parameters and the baseline\n",
    "df['improvement'] = df['accuracy'].apply(lambda x: x-df['accuracy'][0]) "
   ]
  },
  {
   "cell_type": "code",
   "execution_count": 11,
   "metadata": {},
   "outputs": [
    {
     "data": {
      "text/html": [
       "<div>\n",
       "<style scoped>\n",
       "    .dataframe tbody tr th:only-of-type {\n",
       "        vertical-align: middle;\n",
       "    }\n",
       "\n",
       "    .dataframe tbody tr th {\n",
       "        vertical-align: top;\n",
       "    }\n",
       "\n",
       "    .dataframe thead th {\n",
       "        text-align: right;\n",
       "    }\n",
       "</style>\n",
       "<table border=\"1\" class=\"dataframe\">\n",
       "  <thead>\n",
       "    <tr style=\"text-align: right;\">\n",
       "      <th></th>\n",
       "      <th>accuracy</th>\n",
       "      <th>test</th>\n",
       "      <th>time</th>\n",
       "      <th>improvement</th>\n",
       "    </tr>\n",
       "  </thead>\n",
       "  <tbody>\n",
       "    <tr>\n",
       "      <th>0</th>\n",
       "      <td>0.846350</td>\n",
       "      <td>baseline</td>\n",
       "      <td>14.974293</td>\n",
       "      <td>0.000000</td>\n",
       "    </tr>\n",
       "    <tr>\n",
       "      <th>1</th>\n",
       "      <td>0.877759</td>\n",
       "      <td>stopwords</td>\n",
       "      <td>14.306695</td>\n",
       "      <td>0.031409</td>\n",
       "    </tr>\n",
       "    <tr>\n",
       "      <th>2</th>\n",
       "      <td>0.910229</td>\n",
       "      <td>alpha</td>\n",
       "      <td>14.548735</td>\n",
       "      <td>0.063879</td>\n",
       "    </tr>\n",
       "    <tr>\n",
       "      <th>3</th>\n",
       "      <td>0.910229</td>\n",
       "      <td>minimum_freq</td>\n",
       "      <td>13.930100</td>\n",
       "      <td>0.063879</td>\n",
       "    </tr>\n",
       "    <tr>\n",
       "      <th>4</th>\n",
       "      <td>0.910866</td>\n",
       "      <td>stemmer</td>\n",
       "      <td>567.831676</td>\n",
       "      <td>0.064516</td>\n",
       "    </tr>\n",
       "  </tbody>\n",
       "</table>\n",
       "</div>"
      ],
      "text/plain": [
       "   accuracy          test        time  improvement\n",
       "0  0.846350      baseline   14.974293     0.000000\n",
       "1  0.877759     stopwords   14.306695     0.031409\n",
       "2  0.910229         alpha   14.548735     0.063879\n",
       "3  0.910229  minimum_freq   13.930100     0.063879\n",
       "4  0.910866       stemmer  567.831676     0.064516"
      ]
     },
     "execution_count": 11,
     "metadata": {},
     "output_type": "execute_result"
    }
   ],
   "source": [
    "# it looks like the Stemmer test shows the best performance however it comes with greater costs in execution time\n",
    "# with small improvement compared to previous tests\n",
    "df"
   ]
  },
  {
   "cell_type": "code",
   "execution_count": null,
   "metadata": {
    "collapsed": true
   },
   "outputs": [],
   "source": []
  }
 ],
 "metadata": {
  "kernelspec": {
   "display_name": "Python 3",
   "language": "python",
   "name": "python3"
  },
  "language_info": {
   "codemirror_mode": {
    "name": "ipython",
    "version": 3
   },
   "file_extension": ".py",
   "mimetype": "text/x-python",
   "name": "python",
   "nbconvert_exporter": "python",
   "pygments_lexer": "ipython3",
   "version": "3.5.4"
  }
 },
 "nbformat": 4,
 "nbformat_minor": 2
}
