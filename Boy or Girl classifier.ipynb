{
 "cells": [
  {
   "cell_type": "code",
   "execution_count": 1,
   "metadata": {},
   "outputs": [
    {
     "name": "stdout",
     "output_type": "stream",
     "text": [
      "There are 95025 names in dataset\n"
     ]
    },
    {
     "data": {
      "text/html": [
       "<div>\n",
       "<style scoped>\n",
       "    .dataframe tbody tr th:only-of-type {\n",
       "        vertical-align: middle;\n",
       "    }\n",
       "\n",
       "    .dataframe tbody tr th {\n",
       "        vertical-align: top;\n",
       "    }\n",
       "\n",
       "    .dataframe thead th {\n",
       "        text-align: right;\n",
       "    }\n",
       "</style>\n",
       "<table border=\"1\" class=\"dataframe\">\n",
       "  <thead>\n",
       "    <tr style=\"text-align: right;\">\n",
       "      <th></th>\n",
       "      <th>index</th>\n",
       "      <th>name</th>\n",
       "      <th>sex</th>\n",
       "    </tr>\n",
       "  </thead>\n",
       "  <tbody>\n",
       "    <tr>\n",
       "      <th>0</th>\n",
       "      <td>0</td>\n",
       "      <td>Mary</td>\n",
       "      <td>F</td>\n",
       "    </tr>\n",
       "    <tr>\n",
       "      <th>1</th>\n",
       "      <td>1</td>\n",
       "      <td>Anna</td>\n",
       "      <td>F</td>\n",
       "    </tr>\n",
       "    <tr>\n",
       "      <th>2</th>\n",
       "      <td>2</td>\n",
       "      <td>Emma</td>\n",
       "      <td>F</td>\n",
       "    </tr>\n",
       "    <tr>\n",
       "      <th>3</th>\n",
       "      <td>3</td>\n",
       "      <td>Elizabeth</td>\n",
       "      <td>F</td>\n",
       "    </tr>\n",
       "    <tr>\n",
       "      <th>4</th>\n",
       "      <td>4</td>\n",
       "      <td>Minnie</td>\n",
       "      <td>F</td>\n",
       "    </tr>\n",
       "  </tbody>\n",
       "</table>\n",
       "</div>"
      ],
      "text/plain": [
       "   index       name sex\n",
       "0      0       Mary   F\n",
       "1      1       Anna   F\n",
       "2      2       Emma   F\n",
       "3      3  Elizabeth   F\n",
       "4      4     Minnie   F"
      ]
     },
     "execution_count": 1,
     "metadata": {},
     "output_type": "execute_result"
    }
   ],
   "source": [
    "import pandas as pd\n",
    "import numpy as np\n",
    " \n",
    "names = pd.read_csv('names_dataset.csv')\n",
    "\n",
    " \n",
    "print(\"There are %d names in dataset\" % len(names)) \n",
    "names.head()"
   ]
  },
  {
   "cell_type": "code",
   "execution_count": 2,
   "metadata": {},
   "outputs": [
    {
     "name": "stdout",
     "output_type": "stream",
     "text": [
      "[['Mary' 'F']\n",
      " ['Anna' 'F']\n",
      " ['Emma' 'F']\n",
      " ...\n",
      " ['Ziyu' 'M']\n",
      " ['Zykir' 'M']\n",
      " ['Zyus' 'M']]\n"
     ]
    }
   ],
   "source": [
    "names = names.as_matrix()[:, 1:]\n",
    "TRAIN_SPLIT = 0.8 # set a split for Train and Test sets\n",
    "\n",
    "print(names)"
   ]
  },
  {
   "cell_type": "code",
   "execution_count": 3,
   "metadata": {},
   "outputs": [
    {
     "name": "stdout",
     "output_type": "stream",
     "text": [
      "{'last-letter': 'n', 'first-letter': 'j', 'first3-letters': 'joh', 'last3-letters': 'ohn', 'first2-letters': 'jo', 'last2-letters': 'hn'}\n"
     ]
    }
   ],
   "source": [
    "def features(name):\n",
    "    name = name.lower()\n",
    "    return {\n",
    "        'first-letter': name[0], # First letter\n",
    "        'first2-letters': name[0:2], # First 2 letters\n",
    "        'first3-letters': name[0:3], # First 3 letters\n",
    "        'last-letter': name[-1],\n",
    "        'last2-letters': name[-2:],\n",
    "        'last3-letters': name[-3:],\n",
    "    }\n",
    " \n",
    "print (features(\"John\"))\n"
   ]
  },
  {
   "cell_type": "code",
   "execution_count": 4,
   "metadata": {},
   "outputs": [
    {
     "name": "stdout",
     "output_type": "stream",
     "text": [
      "[{'last-letter': 'a', 'first-letter': 'a', 'first3-letters': 'ann', 'last3-letters': 'nna', 'first2-letters': 'an', 'last2-letters': 'na'}\n",
      " {'last-letter': 'h', 'first-letter': 'h', 'first3-letters': 'han', 'last3-letters': 'nah', 'first2-letters': 'ha', 'last2-letters': 'ah'}\n",
      " {'last-letter': 'l', 'first-letter': 'p', 'first3-letters': 'pau', 'last3-letters': 'aul', 'first2-letters': 'pa', 'last2-letters': 'ul'}]\n",
      "Name: Mary, features={'last-letter': 'y', 'first-letter': 'm', 'first3-letters': 'mar', 'last3-letters': 'ary', 'first2-letters': 'ma', 'last2-letters': 'ry'}, gender=F\n"
     ]
    }
   ],
   "source": [
    "# Vectorize the features function\n",
    "features = np.vectorize(features)\n",
    "print (features([\"Anna\", \"Hannah\", \"Paul\"]))\n",
    "\n",
    "# Extract the features for the whole dataset\n",
    "X = features(names[:, 0])\n",
    " \n",
    "# Get the gender column\n",
    "y = names[:, 1] \n",
    " \n",
    "# check the dataset\n",
    "print (\"Name: %s, features=%s, gender=%s\" % (names[0][0], X[0], y[0]))"
   ]
  },
  {
   "cell_type": "code",
   "execution_count": 5,
   "metadata": {},
   "outputs": [
    {
     "name": "stdout",
     "output_type": "stream",
     "text": [
      "76020 19005 76020 19005\n"
     ]
    }
   ],
   "source": [
    "from sklearn.utils import shuffle\n",
    "X, y = shuffle(X, y)\n",
    "X_train, X_test = X[:int(TRAIN_SPLIT * len(X))], X[int(TRAIN_SPLIT * len(X)):]\n",
    "y_train, y_test = y[:int(TRAIN_SPLIT * len(y))], y[int(TRAIN_SPLIT * len(y)):]\n",
    " \n",
    "# Check to see if the datasets add up\n",
    "print (len(X_train), len(X_test), len(y_train), len(y_test))"
   ]
  },
  {
   "cell_type": "code",
   "execution_count": 6,
   "metadata": {},
   "outputs": [
    {
     "name": "stdout",
     "output_type": "stream",
     "text": [
      "[{'last-letter': 'y', 'first-letter': 'm', 'first3-letters': 'mar', 'last3-letters': 'ary', 'first2-letters': 'ma', 'last2-letters': 'ry'}\n",
      " {'last-letter': 'n', 'first-letter': 'j', 'first3-letters': 'joh', 'last3-letters': 'ohn', 'first2-letters': 'jo', 'last2-letters': 'hn'}]\n",
      "  (0, 12)\t1.0\n",
      "  (0, 244)\t1.0\n",
      "  (0, 2682)\t1.0\n",
      "  (0, 4463)\t1.0\n",
      "  (0, 4771)\t1.0\n",
      "  (0, 5097)\t1.0\n",
      "  (1, 9)\t1.0\n",
      "  (1, 199)\t1.0\n",
      "  (1, 2232)\t1.0\n",
      "  (1, 4452)\t1.0\n",
      "  (1, 4587)\t1.0\n",
      "  (1, 7152)\t1.0\n",
      "<class 'scipy.sparse.csr.csr_matrix'>\n",
      "1.0\n",
      "first-letter=m\n"
     ]
    }
   ],
   "source": [
    "from sklearn.feature_extraction import DictVectorizer\n",
    " \n",
    "print (features([\"Mary\", \"John\"]))\n",
    "vectorizer = DictVectorizer()\n",
    "vectorizer.fit(X_train)\n",
    " \n",
    "transformed = vectorizer.transform(features([\"Mary\", \"John\"]))\n",
    "print (transformed)\n",
    "\n",
    " \n",
    "print (type(transformed)) # <class 'scipy.sparse.csr.csr_matrix'>\n",
    "print (transformed.toarray()[0][12])    # 1.0\n",
    "print (vectorizer.feature_names_[12])  # first-letter=m"
   ]
  },
  {
   "cell_type": "code",
   "execution_count": 7,
   "metadata": {},
   "outputs": [
    {
     "data": {
      "text/plain": [
       "DecisionTreeClassifier(class_weight=None, criterion='gini', max_depth=None,\n",
       "            max_features=None, max_leaf_nodes=None,\n",
       "            min_impurity_decrease=0.0, min_impurity_split=None,\n",
       "            min_samples_leaf=1, min_samples_split=2,\n",
       "            min_weight_fraction_leaf=0.0, presort=False, random_state=None,\n",
       "            splitter='best')"
      ]
     },
     "execution_count": 7,
     "metadata": {},
     "output_type": "execute_result"
    }
   ],
   "source": [
    "from sklearn.tree import DecisionTreeClassifier\n",
    " \n",
    "clf = DecisionTreeClassifier()\n",
    "clf.fit(vectorizer.transform(X_train), y_train)"
   ]
  },
  {
   "cell_type": "code",
   "execution_count": 8,
   "metadata": {},
   "outputs": [
    {
     "name": "stdout",
     "output_type": "stream",
     "text": [
      "['M' 'F']\n"
     ]
    }
   ],
   "source": [
    "print (clf.predict(vectorizer.transform(features([\"Alex\", \"Emma\"]))))"
   ]
  },
  {
   "cell_type": "code",
   "execution_count": 9,
   "metadata": {},
   "outputs": [
    {
     "name": "stdout",
     "output_type": "stream",
     "text": [
      "0.9879636937647988\n",
      "0.8669297553275453\n"
     ]
    }
   ],
   "source": [
    "# Accuracy on training set\n",
    "print (clf.score(vectorizer.transform(X_train), y_train))   \n",
    " \n",
    "# Accuracy on test set\n",
    "print (clf.score(vectorizer.transform(X_test), y_test))"
   ]
  },
  {
   "cell_type": "code",
   "execution_count": 20,
   "metadata": {},
   "outputs": [
    {
     "name": "stdout",
     "output_type": "stream",
     "text": [
      "['M']\n"
     ]
    }
   ],
   "source": [
    "print (clf.predict(vectorizer.transform(features([\"Mohamed\"]))))"
   ]
  },
  {
   "cell_type": "code",
   "execution_count": null,
   "metadata": {
    "collapsed": true
   },
   "outputs": [],
   "source": []
  }
 ],
 "metadata": {
  "kernelspec": {
   "display_name": "Python 3",
   "language": "python",
   "name": "python3"
  },
  "language_info": {
   "codemirror_mode": {
    "name": "ipython",
    "version": 3
   },
   "file_extension": ".py",
   "mimetype": "text/x-python",
   "name": "python",
   "nbconvert_exporter": "python",
   "pygments_lexer": "ipython3",
   "version": "3.5.4"
  }
 },
 "nbformat": 4,
 "nbformat_minor": 2
}
