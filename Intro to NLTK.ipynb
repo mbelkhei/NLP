{
 "cells": [
  {
   "cell_type": "code",
   "execution_count": 76,
   "metadata": {
    "collapsed": true
   },
   "outputs": [],
   "source": [
    "import nltk\n",
    "from nltk import Text,FreqDist,word_tokenize, pos_tag, ne_chunk,bigrams, trigrams\n",
    "from nltk.corpus import reuters,webtext\n",
    "from nltk.collocations import *\n",
    "\n",
    "import matplotlib.pyplot as plt\n",
    "%matplotlib inline "
   ]
  },
  {
   "cell_type": "markdown",
   "metadata": {},
   "source": [
    "### nltk introduction"
   ]
  },
  {
   "cell_type": "code",
   "execution_count": 14,
   "metadata": {},
   "outputs": [
    {
     "name": "stdout",
     "output_type": "stream",
     "text": [
      "The Morpholohy of the sentence \"Moh is a Datascientist\" is : ['Moh', 'is', 'a', 'Datascientist']\n",
      "\n",
      "The syntax of the sentence \"Moh is a Datascientist\" is : [('Moh', 'NNP'), ('is', 'VBZ'), ('a', 'DT'), ('Datascientist', 'NN')]\n",
      "\n",
      "The tree of the sentence \"Moh is a Datascientist\" is : (S (GPE Moh/NNP) is/VBZ a/DT Datascientist/NN)\n"
     ]
    }
   ],
   "source": [
    "# we will start by looking at the morphology of a sentence or how does a sentence divide into list of words (bag of words)\n",
    "# then we look ath the syntaxt of those words along with their semantic\n",
    "\n",
    "\n",
    "text = \"Moh is a Datascientist\"\n",
    "\n",
    "# Morphology \n",
    "tokens = word_tokenize(text)\n",
    "print(\"The Morpholohy of the sentence \\\"{}\\\" is : {}\".format(text,tokens))\n",
    "\n",
    "# Syntax\n",
    "tagged_tokens = pos_tag(tokens)\n",
    "print(\"\\nThe syntax of the sentence \\\"{}\\\" is : {}\".format(text,tagged_tokens))\n",
    "\n",
    "# Semantic\n",
    "ner_tree = ne_chunk(tagged_tokens)\n",
    "print(\"\\nThe tree of the sentence \\\"{}\\\" is : {}\".format(text,ner_tree))"
   ]
  },
  {
   "cell_type": "markdown",
   "metadata": {},
   "source": [
    "### Exploring nltk.text"
   ]
  },
  {
   "cell_type": "code",
   "execution_count": 12,
   "metadata": {},
   "outputs": [
    {
     "name": "stdout",
     "output_type": "stream",
     "text": [
      "The collactions of the text are:\n",
      "mln dlrs; cts Net; Avg shrs; NET Shr; 4TH QTR; last year; United\n",
      "States; per share; billion dlrs; 000 Revs; QTR NET; New York; 3RD QTR;\n",
      "Qtly div; 1ST QTR; 000 dlrs; Oper shr; 000 tonnes; Nine mths; mln stg\n",
      "\n",
      "Words that appear in similar contexts as Monday are:\n",
      "april march friday february january\n",
      "\n",
      "Common contexts of the list of words ['August', 'June'] are:\n",
      "on_and since_and from_on in_because and_and in_they since_a last_to\n",
      "on_the by_it in_july ended_shr in_the and_traders ended_and last_when\n",
      "in_last in_u to_shipment last_the\n",
      "\n",
      "The contexts for the word Monday are:\n",
      "Displaying 25 of 240 matches:\n",
      "said . Trade Minister Saleh said on Monday that Indonesia , as the world ' s s\n",
      "Reuters to clarify his statement on Monday in which he said the pact should be\n",
      " the 11 - member CPA which began on Monday . They said producers agreed that c\n",
      "ief Burkhard Junger was arrested on Monday on suspicion of embezzlement and of\n",
      "ween one and 1 . 25 billion dlrs on Monday and Tuesday . The spokesman said Mo\n",
      "ay and Tuesday . The spokesman said Monday ' s float included 500 mln dlrs in \n",
      "s ranged from minus 500 mln dlrs on Monday , when cash letter errors at two ea\n",
      " a deficit on Thursday , Friday and Monday but held excess reserves on the fin\n",
      "ed temporary reserves indirectly on Monday via two billion dlrs of customer re\n",
      "ssets to secure the judgment . Last Monday , the Supreme Court overturned a de\n",
      " Central Bank were higher than last Monday ' s offering , the bank said . The \n",
      " to 98 . 39844 from 98 . 45313 last Monday . Like - dated interbank deposits w\n",
      "e under fresh scrutiny from today ( Monday ), with activity in the European an\n",
      "ose from an unfavorable ruling last Monday by the U . S . Supreme Court in Tex\n",
      "could ,\" Elton said . But following Monday ' s Supreme Court ruling , Texaco '\n",
      "ould come under fresh scrutiny from Monday , with activity in the European and\n",
      "and Trade Minister Rha Woong Bae on Monday to discuss opening South Korean mar\n",
      "oleum Intelligence Weekly , in this Monday ' s edition , said negotiations are\n",
      "nced May 20 , rose another 50 cents Monday to 8 . 375 a share in over - the - \n",
      "ment Marketing were up 12 . 5 cents Monday to 9 . 50 . FIRST UNION & lt ; FUNC\n",
      "tinue to raise U . S . oil prices . Monday , after Texaco confirmed that the p\n",
      "tinue to raise U . S . oil prices . Monday , after Texaco confirmed that the p\n",
      "s . The offer , which will begin on Monday and ends June 30 , requires that th\n",
      "ts two - week public flotation last Monday . The government has carried out ei\n",
      " a U . S . Court in Orlando , Fla . Monday . The company has sought a declarat\n"
     ]
    }
   ],
   "source": [
    "\n",
    "\n",
    "text = Text(reuters.words())\n",
    "\n",
    "# Get the collocations that don't contain stop-words\n",
    "print('The collactions of the text are:')\n",
    "text.collocations()\n",
    "\n",
    "# Get words that appear in similar contexts\n",
    "word = 'Monday'\n",
    "print('\\nWords that appear in similar contexts as {} are:'.format(word))\n",
    "text.similar(word,5)\n",
    "\n",
    "# Get common contexts for a list of words\n",
    "list_words = ['August','June']\n",
    "print('\\nCommon contexts of the list of words {} are:'.format(list_words))\n",
    "text.common_contexts(list_words)\n",
    "\n",
    "# Get contexts for a word\n",
    "print('\\nThe contexts for the word {} are:'.format(word))\n",
    "text.concordance(word)"
   ]
  },
  {
   "cell_type": "markdown",
   "metadata": {},
   "source": [
    "### Basic text stats with NLTK"
   ]
  },
  {
   "cell_type": "code",
   "execution_count": 37,
   "metadata": {},
   "outputs": [
    {
     "name": "stdout",
     "output_type": "stream",
     "text": [
      "The first 100 words are:\n",
      " ['224748', 'somewhere', 'Ballet', 'Appendix', 'photography', 'Logs-out', 'soles', 'libstdc++', 'baysian', 'www.xy.com', 'Pirate', 'extinguish', 'ip', 'judgmental', '215981', 'half-loaded', 'contests', 'UAs', 'shift+link', 'generous', 'tattoos', 'Hints', 'fur', 'rich', 'Burberry', 'Piglet', 'warmer', 'signons.txt', 'inter', 'forty-nine', 'cinematography', 'soul', 'Long', 'intercoms', 'unh-unh', 'Typo', 'Leave', 'Entry', 'disappear', 'metallic', 'cleaned', 'queryCharset', '0.5.2', 'anti-Semitic', 'out-yuppied', 'baseline', '-feature', 'PARTY', 'holdup', 'charcteristic', 'LUCKY', 'commando', 'browser.urlbar.clickSelectsAll', 'spending', 'collective', 'locked', 'intercom', 'story', 'Ave', 'Flyer', 'buggering', 'challenge', 'protrude', 'URL-bar', 'Klonopin', 'GMail', 'Download-Font', 'Purple', 'cust', 'Holding', 'non-adjacent', 'brother', 'integrity', 'coarseness', 'Kidding', 'suspenseful', 'interpret', 'XP', 'systemwide', 'Lancelot', 'mentholy', 'forlder', 'modern', 'chipotle', 'MIME-type', 'plug-ins', 'pre-viewed', 'sailors', 'player', 'dick', '*Enough', 'muchover', 'Unreasonably', 'Gristedes', 'Tending', 'woody', 'Attila', 'Hya', 'Courtney', 'flavours']\n",
      "\n",
      "The frequency of the word woody is: 8\n"
     ]
    }
   ],
   "source": [
    "# Build a large text\n",
    "text = \"\"\n",
    "for wt in webtext.fileids()[:100]:\n",
    "    text += \"\\n\\n\" + webtext.raw(wt)\n",
    "\n",
    "# Get the text's vocabulary    \n",
    "fdist = FreqDist(word_tokenize(text))\n",
    "\n",
    "\n",
    "print('The first 100 words are:\\n {}'.format(list(fdist.keys())[:100])) # First 100 words\n",
    "\n",
    "key = 'woody'\n",
    "print('\\nThe frequency of the word {} is: {}'.format(key,fdist[key]))"
   ]
  },
  {
   "cell_type": "code",
   "execution_count": 67,
   "metadata": {},
   "outputs": [
    {
     "name": "stdout",
     "output_type": "stream",
     "text": [
      "\n",
      "The total nuber of samples is: 379935\n",
      "\n",
      "The proportion of the word Monday is: 2.6320291628831248e-05\n",
      "\n",
      "Words that appear exacly once: ['224748', 'Appendix', 'photography', 'Logs-out', 'libstdc++', 'baysian', 'www.xy.com', 'Pirate', 'extinguish', 'ip']\n",
      "\n",
      "Most common words are: [('.', 16500), (':', 14327), (',', 12427), ('I', 7786), ('the', 7313)]\n",
      "\n"
     ]
    },
    {
     "data": {
      "image/png": "[encoded data removed]",
      "text/plain": [
       "<matplotlib.figure.Figure at 0xc4ada5eb8>"
      ]
     },
     "metadata": {},
     "output_type": "display_data"
    }
   ],
   "source": [
    "# Total number of samples\n",
    "print ('\\nThe total nuber of samples is: {}'.format(fdist.N())) # 379935\n",
    "\n",
    "\n",
    "# word proportion: word frequency/total number of samples \n",
    "print ('\\nThe proportion of the word {} is: {}'.format(word,fdist.freq(word))) # 1.84242041402e-05\n",
    " \n",
    " \n",
    "# Words that appear exactly once\n",
    "print ('\\nWords that appear exacly once: {}'.format(fdist.hapaxes()[:10]))\n",
    " \n",
    "\n",
    "print('\\nMost common words are: {}\\n'.format(fdist.most_common(n=5))) # [(u'.', 16500), (u':', 14327), (u',', 12427), (u'I', 7786), (u'the', 7313)]\n",
    "\n",
    "# Draw a bar chart with the \n",
    "fig = plt.subplots(figsize=(20,5))\n",
    "x, y = zip(*fdist.most_common(n=50))\n",
    "plt.bar(range(len(x)), y)\n",
    "plt.xticks(range(len(x)), x)\n",
    "plt.title('count of the most common 50 words')\n",
    "plt.show()"
   ]
  },
  {
   "cell_type": "markdown",
   "metadata": {},
   "source": [
    "### Bigrams, Trigrams, Collocations"
   ]
  },
  {
   "cell_type": "code",
   "execution_count": 74,
   "metadata": {},
   "outputs": [
    {
     "name": "stdout",
     "output_type": "stream",
     "text": [
      "The bigrams of the sentence Moh is a Datascientist are: [('Moh', 'is'), ('is', 'a'), ('a', 'Datascientist')]\n",
      "The trigrams of the sentence Moh is a Datascientist are: [('Moh', 'is', 'a'), ('is', 'a', 'Datascientist')]\n"
     ]
    }
   ],
   "source": [
    "text = \"Moh is a Datascientist\"\n",
    "tokens = word_tokenize(text)\n",
    " \n",
    "print ('The bigrams of the sentence {} are: {}'.format(text, list(bigrams(tokens))))\n",
    " \n",
    "print ('The trigrams of the sentence {} are: {}'.format(text, list(trigrams(tokens))))"
   ]
  },
  {
   "cell_type": "code",
   "execution_count": 75,
   "metadata": {
    "scrolled": false
   },
   "outputs": [
    {
     "name": "stdout",
     "output_type": "stream",
     "text": [
      "[('DU', 'PONT'), ('Keng', 'Yaik'), ('Kwik', 'Save'), ('Nihon', 'Keizai'), ('corenes', 'pora'), ('fluidized', 'bed'), ('Akbar', 'Hashemi'), ('Constructions', 'Telephoniques'), ('Elevator', 'Mij'), ('Entre', 'Rios'), ('Graan', 'Elevator'), ('JIM', 'WALTER'), ('Taikoo', 'Shing'), ('der', 'Vorm'), ('di', 'Clemente'), ('Borrowing', 'Requirement'), ('FOOTE', 'MINERAL'), ('Hawker', 'Siddeley'), ('JARDINE', 'MATHESON'), ('PRORATION', 'FACTOR'), ('Wildlife', 'Refuge'), ('Kohlberg', 'Kravis'), ('Almir', 'Pazzionotto'), ('Bankhaus', 'Centrale'), ('Corpus', 'Christi'), ('Kuala', 'Lumpur'), ('Maple', 'Leaf'), ('Stats', 'Oljeselskap'), ('Zoete', 'Wedd'), ('Tadashi', 'Kuranari'), ('Drawing', 'Rights'), ('EASTMAN', 'KODAK'), ('Martinez', 'Cuenca'), ('Mathematical', 'Applications'), ('Neutral', 'Zone'), ('Townsend', 'Thoresen'), ('Sector', 'Borrowing'), ('Hashemi', 'Rafsanjani'), ('Hossein', 'Mousavi'), ('Kitty', 'Hawk'), ('Task', 'Force'), ('Tender', 'Loving'), ('WELLS', 'FARGO'), ('SLAUGHTER', 'GUESSTIMATES'), ('ad', 'hoc'), ('mechanically', 'separated'), ('bleached', 'deodorised'), ('Alejandro', 'Martinez'), ('Salina', 'Cruz'), ('Het', 'Comite')]\n",
      "[('Graan', 'Elevator', 'Mij'), ('Sector', 'Borrowing', 'Requirement'), ('Akbar', 'Hashemi', 'Rafsanjani'), ('Lim', 'Keng', 'Yaik'), ('Alejandro', 'Martinez', 'Cuenca'), ('Den', 'Norske', 'Stats'), ('Norske', 'Stats', 'Oljeselskap'), ('Kokusai', 'Denshin', 'Denwa'), ('Special', 'Drawing', 'Rights'), ('Dar', 'es', 'Salaam'), ('FOLLOWING', 'RAINFALL', 'WAS'), ('Duffour', 'et', 'Igon'), ('Tender', 'Loving', 'Care'), ('CATTLE', 'SLAUGHTER', 'GUESSTIMATES'), ('CAMPBELL', 'RED', 'LAKE'), ('Victor', 'Paz', 'Estenssoro'), ('Carter', 'Hawley', 'Hale'), ('Punta', 'del', 'Este'), ('ELEVATOR', 'LOADING', 'WAITING'), ('TIME', 'JOBLESS', 'CLAIMS'), ('Francaise', 'des', 'Petroles'), ('Public', 'Sector', 'Borrowing'), ('Arturo', 'Hernandez', 'Grisanti'), ('Speaker', 'Jim', 'Wright'), ('carrier', 'Kitty', 'Hawk'), ('Archer', 'Daniels', 'Midland'), ('Corning', 'Glass', 'Works'), ('refined', 'bleached', 'deodorised'), ('Grown', 'Cereals', 'Authority'), ('Commissioner', 'Frans', 'Andriessen'), ('RBD', 'PALM', 'OLEIN'), ('RAINFALL', 'THE', 'FOLLOWING'), ('THE', 'FOLLOWING', 'RAINFALL'), ('Kremlin', 'leader', 'Mikhail'), ('Bankhaus', 'Centrale', 'Credit'), ('SANTA', 'FE', 'SOUTHERN'), ('Director', 'Kobena', 'Erbynn'), ('THOUS', 'BUSHELS', 'SOYBEANS'), ('GETS', 'QUALIFIED', 'AUDIT'), ('Denis', 'Bra', 'Kanon'), ('GHANA', 'COCOA', 'PURCHASES'), ('bleached', 'deodorised', 'palm'), ('leader', 'Mikhail', 'Gorbachev'), ('SLAUGHTER', 'GUESSTIMATES', 'Chicago'), ('de', 'Constructions', 'Telephoniques'), ('DISCOUNT', 'WINDOW', 'BORROWINGS'), ('Nil', 'Nil', 'Nil'), ('Fichtel', 'und', 'Sachs'), ('de', 'Zoete', 'Wedd'), ('Home', 'Grown', 'Cereals')]\n"
     ]
    }
   ],
   "source": [
    "\n",
    "bigram_measures = nltk.collocations.BigramAssocMeasures()\n",
    "trigram_measures = nltk.collocations.TrigramAssocMeasures()\n",
    " \n",
    "## Bigrams\n",
    "finder = BigramCollocationFinder.from_words(nltk.corpus.reuters.words())\n",
    " \n",
    "# only bigrams that appear 5+ times\n",
    "finder.apply_freq_filter(5)\n",
    " \n",
    "# return the 50 bigrams with the highest PMI\n",
    "print (finder.nbest(bigram_measures.pmi, 50))\n",
    "\n",
    " \n",
    "## Trigrams\n",
    "finder = TrigramCollocationFinder.from_words(nltk.corpus.reuters.words())\n",
    "# only trigrams that appear 5+ times\n",
    "finder.apply_freq_filter(5)\n",
    " \n",
    "# return the 50 trigrams with the highest PMI\n",
    "print (finder.nbest(trigram_measures.pmi, 50))\n",
    " "
   ]
  },
  {
   "cell_type": "code",
   "execution_count": null,
   "metadata": {
    "collapsed": true
   },
   "outputs": [],
   "source": []
  }
 ],
 "metadata": {
  "kernelspec": {
   "display_name": "Python 3",
   "language": "python",
   "name": "python3"
  },
  "language_info": {
   "codemirror_mode": {
    "name": "ipython",
    "version": 3
   },
   "file_extension": ".py",
   "mimetype": "text/x-python",
   "name": "python",
   "nbconvert_exporter": "python",
   "pygments_lexer": "ipython3",
   "version": "3.5.4"
  }
 },
 "nbformat": 4,
 "nbformat_minor": 2
}
